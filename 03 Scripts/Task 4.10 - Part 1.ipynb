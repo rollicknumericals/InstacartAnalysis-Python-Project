{
 "cells": [
  {
   "cell_type": "markdown",
   "id": "29f75d2a-f3e7-4e91-9c43-6c9f0aeb6075",
   "metadata": {},
   "source": [
    "# Task 4.10 - Part 1"
   ]
  },
  {
   "cell_type": "markdown",
   "id": "68aa90ce-fb50-46cd-927c-6a136978ffee",
   "metadata": {},
   "source": [
    "##### This script contains the following points:"
   ]
  },
  {
   "cell_type": "markdown",
   "id": "e4b31224-b413-48b6-a17d-56a85b3fc3b5",
   "metadata": {},
   "source": [
    "#### Import libraries"
   ]
  },
  {
   "cell_type": "markdown",
   "id": "480cdccb-4411-4800-8326-6231a38f12ae",
   "metadata": {},
   "source": [
    "#### 1. Import data"
   ]
  },
  {
   "cell_type": "markdown",
   "id": "b65157f8-07ed-43cb-ad5e-810ea7e7b1a9",
   "metadata": {},
   "source": [
    "#### 2. Consider andy security implications that might exist for this new data. Address any PII data in the data."
   ]
  },
  {
   "cell_type": "markdown",
   "id": "0f5a21dd-4880-44f6-9afd-c7d1d92fe5f0",
   "metadata": {},
   "source": [
    "#### 3a. Create 'regions' column out of 'states' column"
   ]
  },
  {
   "cell_type": "markdown",
   "id": "fa4c2051-4f22-4a1c-9f5a-ddb7bbb06e8c",
   "metadata": {},
   "source": [
    "#### 3b. Create crosstab to determine possible difference in spending habits between U.S. regions"
   ]
  },
  {
   "cell_type": "markdown",
   "id": "2c08af33-eb04-4564-943e-327ed8e3819d",
   "metadata": {},
   "source": [
    "#### 4. Create exclusion flag for low-activity customers. Exclude this group from the data. Export sample. "
   ]
  },
  {
   "cell_type": "markdown",
   "id": "310dd3ba-c31b-48f9-970a-b81a74546390",
   "metadata": {},
   "source": [
    "##### ...continued in next notebook"
   ]
  },
  {
   "cell_type": "markdown",
   "id": "7168ed16-919b-471d-a79c-3b54a03b6c79",
   "metadata": {},
   "source": [
    "# ________________________________________________________"
   ]
  },
  {
   "cell_type": "markdown",
   "id": "d2a56ede-5381-4843-af00-0b16efae7982",
   "metadata": {},
   "source": [
    "### Import libraries"
   ]
  },
  {
   "cell_type": "code",
   "execution_count": 1,
   "id": "c21b5918-93a6-4dbe-82c3-111874514dc6",
   "metadata": {},
   "outputs": [],
   "source": [
    "# Import libraries\n",
    "import pandas as pd\n",
    "import numpy as np\n",
    "import os\n",
    "import matplotlib.pyplot as plt\n",
    "import seaborn as sns\n",
    "import scipy"
   ]
  },
  {
   "cell_type": "markdown",
   "id": "74fa6852-3c90-4342-bebe-8ecc78d67379",
   "metadata": {},
   "source": [
    "### 1. Import data"
   ]
  },
  {
   "cell_type": "code",
   "execution_count": 2,
   "id": "35691a75-47df-458e-8f7c-922c57907eb4",
   "metadata": {},
   "outputs": [],
   "source": [
    "# Set path\n",
    "path = r'/Users/mainframe/Documents/Instacart Basket Analysis'"
   ]
  },
  {
   "cell_type": "code",
   "execution_count": 3,
   "id": "becde2dd-bdc8-4e0c-a2a7-b2c89ea7e8e3",
   "metadata": {},
   "outputs": [],
   "source": [
    "df = pd.read_pickle(os.path.join(path, '02 Data', 'Prepared Data', 'IC_data.pkl'))"
   ]
  },
  {
   "cell_type": "markdown",
   "id": "a1a50c64-1b85-4481-8b4b-e511ff30043b",
   "metadata": {},
   "source": [
    "### 2. Consider any security implications that might exist for this new data. Address any PII data in the data."
   ]
  },
  {
   "cell_type": "markdown",
   "id": "4f0fb947-fcd1-4143-8f64-dddca2620490",
   "metadata": {},
   "source": [
    "##### I dropped the first and last names of the customers in the last task, mostly in an attempt to reduce the size of my data frame. But had I not dropped the names previously for said reason, I would do that now for the reason of keeping PII secure. The user_id is attached to the rest of the data, still making it possible to analyze effectively."
   ]
  },
  {
   "cell_type": "markdown",
   "id": "c9ef25bd-9ce8-4cfd-a5a9-ce3ba7283b39",
   "metadata": {},
   "source": [
    "### 3a. Create 'regions' column out of 'states' column"
   ]
  },
  {
   "cell_type": "code",
   "execution_count": 4,
   "id": "1dc68d79-7625-48b0-9c83-11c41d3d086d",
   "metadata": {},
   "outputs": [
    {
     "data": {
      "text/plain": [
       "state\n",
       "Pennsylvania            667082\n",
       "California              659783\n",
       "Rhode Island            656913\n",
       "Georgia                 656389\n",
       "New Mexico              654494\n",
       "Arizona                 653964\n",
       "North Carolina          651900\n",
       "Oklahoma                651739\n",
       "Alaska                  648495\n",
       "Minnesota               647825\n",
       "Massachusetts           646358\n",
       "Wyoming                 644255\n",
       "Virginia                641421\n",
       "Missouri                640732\n",
       "Texas                   640394\n",
       "Colorado                639280\n",
       "Maine                   638583\n",
       "North Dakota            638491\n",
       "Alabama                 638003\n",
       "Kansas                  637538\n",
       "Louisiana               637482\n",
       "Delaware                637024\n",
       "South Carolina          636754\n",
       "Oregon                  636425\n",
       "Arkansas                636144\n",
       "Nevada                  636139\n",
       "New York                635983\n",
       "Montana                 635265\n",
       "South Dakota            633772\n",
       "Illinois                633024\n",
       "Hawaii                  632901\n",
       "Washington              632852\n",
       "Mississippi             632675\n",
       "Kentucky                632490\n",
       "Michigan                630928\n",
       "Florida                 629027\n",
       "Ohio                    628319\n",
       "Wisconsin               628108\n",
       "New Jersey              627692\n",
       "Indiana                 627282\n",
       "Maryland                626579\n",
       "Nebraska                625813\n",
       "Iowa                    625493\n",
       "Connecticut             623022\n",
       "Tennessee               617873\n",
       "New Hampshire           615378\n",
       "District of Columbia    613695\n",
       "West Virginia           612296\n",
       "Utah                    611941\n",
       "Vermont                 611725\n",
       "Idaho                   607119\n",
       "Name: count, dtype: int64"
      ]
     },
     "execution_count": 4,
     "metadata": {},
     "output_type": "execute_result"
    }
   ],
   "source": [
    "# Check for uniformity in names of states \n",
    "df['state'].value_counts(dropna = False)"
   ]
  },
  {
   "cell_type": "code",
   "execution_count": 5,
   "id": "e7a88f45-57f8-4417-8fde-c28fcbf9f39b",
   "metadata": {},
   "outputs": [],
   "source": [
    "# Define regions\n",
    "Northeast = [\n",
    "    'Connecticut', 'Maine', 'Massachusetts', 'New Hampshire', 'New Jersey', 'New York', 'Pennsylvania', 'Rhode Island', 'Vermont'\n",
    "]\n",
    "Midwest = [\n",
    "    'Illinois', 'Indiana', 'Iowa', 'Kansas', 'Michigan', 'Minnesota', 'Missouri', 'Nebraska', 'North Dakota', 'Ohio', 'South Dakota', 'Wisconsin'\n",
    "]\n",
    "South = [\n",
    "    'Alabama', 'Arkansas', 'Delaware', 'District of Columbia', 'Florida', 'Georgia', 'Kentucky', 'Louisiana', 'Maryland', 'Mississippi', 'North Carolina', 'Oklahoma', 'South Carolina', 'Tennessee', 'Texas', 'Virginia', 'West Virginia'\n",
    "]\n",
    "West = [\n",
    "    'Alaska', 'Arizona', 'California', 'Colorado', 'Hawaii', 'Idaho', 'Montana', 'Nevada', 'New Mexico', 'Oregon', 'Utah', 'Washington', 'Wyoming'\n",
    "]"
   ]
  },
  {
   "cell_type": "code",
   "execution_count": 6,
   "id": "3339fbc3-b268-4af1-8abf-5a456bbf4877",
   "metadata": {},
   "outputs": [],
   "source": [
    "# Function to determine region\n",
    "def get_region(state):\n",
    "    if state in Northeast:\n",
    "        return 'Northeast'\n",
    "    elif state in Midwest:\n",
    "        return 'Midwest'\n",
    "    elif state in South:\n",
    "        return 'South'\n",
    "    elif state in West:\n",
    "        return 'West'\n",
    "    else:\n",
    "        return 'Unknown'"
   ]
  },
  {
   "cell_type": "code",
   "execution_count": 7,
   "id": "5a9e05d9-aa24-41b5-a424-26d8b3ab3ee8",
   "metadata": {},
   "outputs": [],
   "source": [
    "# Apply user-defined column 'region'\n",
    "df['region'] = df['state'].apply(get_region)"
   ]
  },
  {
   "cell_type": "code",
   "execution_count": 8,
   "id": "43141ff0-fda0-4081-b95e-44ff3ac0b7f9",
   "metadata": {},
   "outputs": [
    {
     "data": {
      "text/plain": [
       "region\n",
       "South        10791885\n",
       "West          8292913\n",
       "Midwest       7597325\n",
       "Northeast     5722736\n",
       "Name: count, dtype: int64"
      ]
     },
     "execution_count": 8,
     "metadata": {},
     "output_type": "execute_result"
    }
   ],
   "source": [
    "# Perform value counts of new labels for regions\n",
    "df['region'].value_counts(dropna = False)"
   ]
  },
  {
   "cell_type": "markdown",
   "id": "9350df44-28e6-4bf9-b451-389265a0eb10",
   "metadata": {},
   "source": [
    "### 3b. Create crosstab to determine possible difference in spending habits between U.S. regions"
   ]
  },
  {
   "cell_type": "code",
   "execution_count": 9,
   "id": "a56fcf03-fc9b-44af-a543-bdcffda486d0",
   "metadata": {},
   "outputs": [],
   "source": [
    "# Create crosstab\n",
    "crosstab = pd.crosstab(df['region'], df['spending_flag'], dropna = False)"
   ]
  },
  {
   "cell_type": "code",
   "execution_count": 10,
   "id": "2e3f50c2-a3db-442b-9dd7-8ec8c383eec6",
   "metadata": {},
   "outputs": [
    {
     "name": "stdout",
     "output_type": "stream",
     "text": [
      "spending_flag  High spender  Low spender\n",
      "region                                  \n",
      "Midwest              155975      7441350\n",
      "Northeast            108225      5614511\n",
      "South                209691     10582194\n",
      "West                 160354      8132559\n"
     ]
    }
   ],
   "source": [
    "print(crosstab)"
   ]
  },
  {
   "cell_type": "markdown",
   "id": "b9e45a66-e8d9-4fad-be29-dff7eef185ad",
   "metadata": {},
   "source": [
    "### 4. Create exclusion flag for low-activity customers. Exclude this group from the data. Export sample. "
   ]
  },
  {
   "cell_type": "code",
   "execution_count": 11,
   "id": "1fe985f0-91d7-45ff-a88a-38b8ec0df43d",
   "metadata": {},
   "outputs": [],
   "source": [
    "# Create exclusion flag\n",
    "df.loc[df['max_order'] < 5, 'exclusion_flag'] = 'Low-activity'\n",
    "df.loc[df['max_order'] >= 5, 'exclusion_flag'] = 'Acceptable'"
   ]
  },
  {
   "cell_type": "code",
   "execution_count": 12,
   "id": "9e0b3e32-f21a-421f-99b6-59730895f7b0",
   "metadata": {},
   "outputs": [
    {
     "data": {
      "text/plain": [
       "exclusion_flag\n",
       "Acceptable      30964564\n",
       "Low-activity     1440295\n",
       "Name: count, dtype: int64"
      ]
     },
     "execution_count": 12,
     "metadata": {},
     "output_type": "execute_result"
    }
   ],
   "source": [
    "# Check utility of new column\n",
    "df['exclusion_flag'].value_counts(dropna = False)"
   ]
  },
  {
   "cell_type": "code",
   "execution_count": 13,
   "id": "67e7103d-1fcd-41de-b56b-83730e24fd75",
   "metadata": {},
   "outputs": [],
   "source": [
    "# Exclude 'Low-activity' customers from the data\n",
    "df_acc = df[df['exclusion_flag'] == 'Acceptable']"
   ]
  },
  {
   "cell_type": "code",
   "execution_count": 14,
   "id": "1d1ae3de-32bc-4265-8be9-aba7e675375e",
   "metadata": {},
   "outputs": [
    {
     "data": {
      "text/html": [
       "<div>\n",
       "<style scoped>\n",
       "    .dataframe tbody tr th:only-of-type {\n",
       "        vertical-align: middle;\n",
       "    }\n",
       "\n",
       "    .dataframe tbody tr th {\n",
       "        vertical-align: top;\n",
       "    }\n",
       "\n",
       "    .dataframe thead th {\n",
       "        text-align: right;\n",
       "    }\n",
       "</style>\n",
       "<table border=\"1\" class=\"dataframe\">\n",
       "  <thead>\n",
       "    <tr style=\"text-align: right;\">\n",
       "      <th></th>\n",
       "      <th>order_id</th>\n",
       "      <th>user_id</th>\n",
       "      <th>order_number</th>\n",
       "      <th>orders_day_of_week</th>\n",
       "      <th>hour_ordered</th>\n",
       "      <th>days_since_prior_order</th>\n",
       "      <th>product_id</th>\n",
       "      <th>add_to_cart_order</th>\n",
       "      <th>reordered</th>\n",
       "      <th>product_name</th>\n",
       "      <th>...</th>\n",
       "      <th>gender</th>\n",
       "      <th>state</th>\n",
       "      <th>age</th>\n",
       "      <th>date_joined</th>\n",
       "      <th>dependents</th>\n",
       "      <th>marital</th>\n",
       "      <th>income</th>\n",
       "      <th>_merge</th>\n",
       "      <th>region</th>\n",
       "      <th>exclusion_flag</th>\n",
       "    </tr>\n",
       "  </thead>\n",
       "  <tbody>\n",
       "    <tr>\n",
       "      <th>0</th>\n",
       "      <td>2539329</td>\n",
       "      <td>1</td>\n",
       "      <td>1</td>\n",
       "      <td>2</td>\n",
       "      <td>8</td>\n",
       "      <td>NaN</td>\n",
       "      <td>196</td>\n",
       "      <td>1</td>\n",
       "      <td>0</td>\n",
       "      <td>Soda</td>\n",
       "      <td>...</td>\n",
       "      <td>Female</td>\n",
       "      <td>Alabama</td>\n",
       "      <td>31</td>\n",
       "      <td>2/17/2019</td>\n",
       "      <td>3</td>\n",
       "      <td>married</td>\n",
       "      <td>40423</td>\n",
       "      <td>both</td>\n",
       "      <td>South</td>\n",
       "      <td>Acceptable</td>\n",
       "    </tr>\n",
       "    <tr>\n",
       "      <th>1</th>\n",
       "      <td>2539329</td>\n",
       "      <td>1</td>\n",
       "      <td>1</td>\n",
       "      <td>2</td>\n",
       "      <td>8</td>\n",
       "      <td>NaN</td>\n",
       "      <td>14084</td>\n",
       "      <td>2</td>\n",
       "      <td>0</td>\n",
       "      <td>Organic Unsweetened Vanilla Almond Milk</td>\n",
       "      <td>...</td>\n",
       "      <td>Female</td>\n",
       "      <td>Alabama</td>\n",
       "      <td>31</td>\n",
       "      <td>2/17/2019</td>\n",
       "      <td>3</td>\n",
       "      <td>married</td>\n",
       "      <td>40423</td>\n",
       "      <td>both</td>\n",
       "      <td>South</td>\n",
       "      <td>Acceptable</td>\n",
       "    </tr>\n",
       "    <tr>\n",
       "      <th>2</th>\n",
       "      <td>2539329</td>\n",
       "      <td>1</td>\n",
       "      <td>1</td>\n",
       "      <td>2</td>\n",
       "      <td>8</td>\n",
       "      <td>NaN</td>\n",
       "      <td>12427</td>\n",
       "      <td>3</td>\n",
       "      <td>0</td>\n",
       "      <td>Original Beef Jerky</td>\n",
       "      <td>...</td>\n",
       "      <td>Female</td>\n",
       "      <td>Alabama</td>\n",
       "      <td>31</td>\n",
       "      <td>2/17/2019</td>\n",
       "      <td>3</td>\n",
       "      <td>married</td>\n",
       "      <td>40423</td>\n",
       "      <td>both</td>\n",
       "      <td>South</td>\n",
       "      <td>Acceptable</td>\n",
       "    </tr>\n",
       "    <tr>\n",
       "      <th>3</th>\n",
       "      <td>2539329</td>\n",
       "      <td>1</td>\n",
       "      <td>1</td>\n",
       "      <td>2</td>\n",
       "      <td>8</td>\n",
       "      <td>NaN</td>\n",
       "      <td>26088</td>\n",
       "      <td>4</td>\n",
       "      <td>0</td>\n",
       "      <td>Aged White Cheddar Popcorn</td>\n",
       "      <td>...</td>\n",
       "      <td>Female</td>\n",
       "      <td>Alabama</td>\n",
       "      <td>31</td>\n",
       "      <td>2/17/2019</td>\n",
       "      <td>3</td>\n",
       "      <td>married</td>\n",
       "      <td>40423</td>\n",
       "      <td>both</td>\n",
       "      <td>South</td>\n",
       "      <td>Acceptable</td>\n",
       "    </tr>\n",
       "    <tr>\n",
       "      <th>4</th>\n",
       "      <td>2539329</td>\n",
       "      <td>1</td>\n",
       "      <td>1</td>\n",
       "      <td>2</td>\n",
       "      <td>8</td>\n",
       "      <td>NaN</td>\n",
       "      <td>26405</td>\n",
       "      <td>5</td>\n",
       "      <td>0</td>\n",
       "      <td>XL Pick-A-Size Paper Towel Rolls</td>\n",
       "      <td>...</td>\n",
       "      <td>Female</td>\n",
       "      <td>Alabama</td>\n",
       "      <td>31</td>\n",
       "      <td>2/17/2019</td>\n",
       "      <td>3</td>\n",
       "      <td>married</td>\n",
       "      <td>40423</td>\n",
       "      <td>both</td>\n",
       "      <td>South</td>\n",
       "      <td>Acceptable</td>\n",
       "    </tr>\n",
       "  </tbody>\n",
       "</table>\n",
       "<p>5 rows × 33 columns</p>\n",
       "</div>"
      ],
      "text/plain": [
       "   order_id  user_id  order_number  orders_day_of_week  hour_ordered  \\\n",
       "0   2539329        1             1                   2             8   \n",
       "1   2539329        1             1                   2             8   \n",
       "2   2539329        1             1                   2             8   \n",
       "3   2539329        1             1                   2             8   \n",
       "4   2539329        1             1                   2             8   \n",
       "\n",
       "   days_since_prior_order  product_id  add_to_cart_order  reordered  \\\n",
       "0                     NaN         196                  1          0   \n",
       "1                     NaN       14084                  2          0   \n",
       "2                     NaN       12427                  3          0   \n",
       "3                     NaN       26088                  4          0   \n",
       "4                     NaN       26405                  5          0   \n",
       "\n",
       "                              product_name  ...  gender    state  age  \\\n",
       "0                                     Soda  ...  Female  Alabama   31   \n",
       "1  Organic Unsweetened Vanilla Almond Milk  ...  Female  Alabama   31   \n",
       "2                      Original Beef Jerky  ...  Female  Alabama   31   \n",
       "3               Aged White Cheddar Popcorn  ...  Female  Alabama   31   \n",
       "4         XL Pick-A-Size Paper Towel Rolls  ...  Female  Alabama   31   \n",
       "\n",
       "  date_joined dependents  marital income  _merge region  exclusion_flag  \n",
       "0   2/17/2019          3  married  40423    both  South      Acceptable  \n",
       "1   2/17/2019          3  married  40423    both  South      Acceptable  \n",
       "2   2/17/2019          3  married  40423    both  South      Acceptable  \n",
       "3   2/17/2019          3  married  40423    both  South      Acceptable  \n",
       "4   2/17/2019          3  married  40423    both  South      Acceptable  \n",
       "\n",
       "[5 rows x 33 columns]"
      ]
     },
     "execution_count": 14,
     "metadata": {},
     "output_type": "execute_result"
    }
   ],
   "source": [
    "df_acc.head()"
   ]
  },
  {
   "cell_type": "code",
   "execution_count": 15,
   "id": "f23a6a90-e16f-4bc4-912b-6e496950c1c5",
   "metadata": {},
   "outputs": [
    {
     "data": {
      "text/plain": [
       "exclusion_flag\n",
       "Acceptable    30964564\n",
       "Name: count, dtype: int64"
      ]
     },
     "execution_count": 15,
     "metadata": {},
     "output_type": "execute_result"
    }
   ],
   "source": [
    "# Check for excluded rows\n",
    "df_acc['exclusion_flag'].value_counts(dropna = False)"
   ]
  },
  {
   "cell_type": "code",
   "execution_count": 16,
   "id": "806699bf-0aaf-401a-ad04-a18a04d384fe",
   "metadata": {},
   "outputs": [],
   "source": [
    "# Drop unnecessary columns\n",
    "df_ac = df_acc.drop(columns = ['_merge', 'exclusion_flag'])"
   ]
  },
  {
   "cell_type": "code",
   "execution_count": 17,
   "id": "748fba42-0a6c-437d-9596-8f52ccfdb003",
   "metadata": {},
   "outputs": [],
   "source": [
    "# Export filtered data frame\n",
    "df_ac.to_pickle(os.path.join(path, '02 Data', 'Prepared Data', 'acceptable_customers.pkl'))"
   ]
  },
  {
   "cell_type": "markdown",
   "id": "5179ced3-da86-4aa7-b1c0-831737eef22a",
   "metadata": {},
   "source": [
    "#### ...continued in next notebook"
   ]
  }
 ],
 "metadata": {
  "kernelspec": {
   "display_name": "Python 3 (ipykernel)",
   "language": "python",
   "name": "python3"
  },
  "language_info": {
   "codemirror_mode": {
    "name": "ipython",
    "version": 3
   },
   "file_extension": ".py",
   "mimetype": "text/x-python",
   "name": "python",
   "nbconvert_exporter": "python",
   "pygments_lexer": "ipython3",
   "version": "3.11.7"
  }
 },
 "nbformat": 4,
 "nbformat_minor": 5
}
