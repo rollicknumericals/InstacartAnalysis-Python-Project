{
 "cells": [
  {
   "cell_type": "markdown",
   "id": "fc673ff3",
   "metadata": {},
   "source": [
    "# 01. Importing libraries"
   ]
  },
  {
   "cell_type": "code",
   "execution_count": 3,
   "id": "ecc8cb73",
   "metadata": {},
   "outputs": [],
   "source": [
    "# Import libraries\n",
    "import pandas as pd\n",
    "import numpy as np\n",
    "import os"
   ]
  },
  {
   "cell_type": "markdown",
   "id": "640c84de",
   "metadata": {},
   "source": [
    "# 02. Data types"
   ]
  },
  {
   "cell_type": "code",
   "execution_count": 4,
   "id": "debce83b",
   "metadata": {},
   "outputs": [],
   "source": [
    "a, x, y = 25, 50, 200"
   ]
  },
  {
   "cell_type": "code",
   "execution_count": 5,
   "id": "e8eadca3",
   "metadata": {},
   "outputs": [
    {
     "data": {
      "text/plain": [
       "250"
      ]
     },
     "execution_count": 5,
     "metadata": {},
     "output_type": "execute_result"
    }
   ],
   "source": [
    "a + a + y"
   ]
  },
  {
   "cell_type": "code",
   "execution_count": 6,
   "id": "c3a98c6c",
   "metadata": {},
   "outputs": [
    {
     "data": {
      "text/plain": [
       "100"
      ]
     },
     "execution_count": 6,
     "metadata": {},
     "output_type": "execute_result"
    }
   ],
   "source": [
    "a + a + x"
   ]
  },
  {
   "cell_type": "code",
   "execution_count": 7,
   "id": "514e4766",
   "metadata": {},
   "outputs": [
    {
     "data": {
      "text/plain": [
       "100"
      ]
     },
     "execution_count": 7,
     "metadata": {},
     "output_type": "execute_result"
    }
   ],
   "source": [
    "y - x - a - a"
   ]
  },
  {
   "cell_type": "code",
   "execution_count": 8,
   "id": "ee86f126",
   "metadata": {},
   "outputs": [
    {
     "data": {
      "text/plain": [
       "100"
      ]
     },
     "execution_count": 8,
     "metadata": {},
     "output_type": "execute_result"
    }
   ],
   "source": [
    "x + x"
   ]
  },
  {
   "cell_type": "code",
   "execution_count": 9,
   "id": "5d92c301",
   "metadata": {},
   "outputs": [],
   "source": [
    "b, c = 3.14, 96.3"
   ]
  },
  {
   "cell_type": "code",
   "execution_count": 10,
   "id": "a8f252f1",
   "metadata": {},
   "outputs": [
    {
     "data": {
      "text/plain": [
       "30.668789808917197"
      ]
     },
     "execution_count": 10,
     "metadata": {},
     "output_type": "execute_result"
    }
   ],
   "source": [
    "c/b"
   ]
  },
  {
   "cell_type": "code",
   "execution_count": 11,
   "id": "0829b87a",
   "metadata": {},
   "outputs": [
    {
     "data": {
      "text/plain": [
       "0.03260643821391485"
      ]
     },
     "execution_count": 11,
     "metadata": {},
     "output_type": "execute_result"
    }
   ],
   "source": [
    "b/c"
   ]
  },
  {
   "cell_type": "code",
   "execution_count": 12,
   "id": "7c2cdb02",
   "metadata": {},
   "outputs": [],
   "source": [
    "i, r = \"g\", \"o\""
   ]
  },
  {
   "cell_type": "code",
   "execution_count": 13,
   "id": "2fab3a36",
   "metadata": {},
   "outputs": [
    {
     "data": {
      "text/plain": [
       "'go'"
      ]
     },
     "execution_count": 13,
     "metadata": {},
     "output_type": "execute_result"
    }
   ],
   "source": [
    "i + r"
   ]
  },
  {
   "cell_type": "code",
   "execution_count": 27,
   "id": "e5ad9a73",
   "metadata": {},
   "outputs": [],
   "source": [
    "w, f, l, y, z = ' Cubs ', 'Hey Chicago, What', \" d'you say?\", 'The Cubs are gonna WIN TODAY', '!' "
   ]
  },
  {
   "cell_type": "code",
   "execution_count": 28,
   "id": "48c5b759",
   "metadata": {},
   "outputs": [],
   "source": [
    "i = 'G'"
   ]
  },
  {
   "cell_type": "code",
   "execution_count": 29,
   "id": "29318acf",
   "metadata": {},
   "outputs": [],
   "source": [
    "e = ' '"
   ]
  },
  {
   "cell_type": "code",
   "execution_count": 36,
   "id": "82bb34ab",
   "metadata": {},
   "outputs": [
    {
     "data": {
      "text/plain": [
       "\"Go Cubs Go! Go Cubs Go! Hey Chicago, What d'you say? The Cubs are gonna WIN TODAY! \""
      ]
     },
     "execution_count": 36,
     "metadata": {},
     "output_type": "execute_result"
    }
   ],
   "source": [
    "i + r + w + i + r + z + e + i + r + w + i + r + z + e + f + l + y + z + e"
   ]
  },
  {
   "cell_type": "code",
   "execution_count": 31,
   "id": "c5e90e67",
   "metadata": {},
   "outputs": [],
   "source": [
    "l = \" d'you say? \""
   ]
  },
  {
   "cell_type": "code",
   "execution_count": 37,
   "id": "22465554",
   "metadata": {},
   "outputs": [
    {
     "data": {
      "text/plain": [
       "\"Go Cubs Go! Go Cubs Go! Hey Chicago, What d'you say? The Cubs are gonna WIN TODAY! \""
      ]
     },
     "execution_count": 37,
     "metadata": {},
     "output_type": "execute_result"
    }
   ],
   "source": [
    "i + r + w + i + r + z + e + i + r + w + i + r + z + e + f + l + y + z + e"
   ]
  },
  {
   "cell_type": "code",
   "execution_count": 33,
   "id": "656506af",
   "metadata": {},
   "outputs": [
    {
     "data": {
      "text/plain": [
       "'The Cubs are gonna WIN TODAYThe Cubs are gonna WIN TODAYThe Cubs are gonna WIN TODAYThe Cubs are gonna WIN TODAYThe Cubs are gonna WIN TODAYThe Cubs are gonna WIN TODAYThe Cubs are gonna WIN TODAYThe Cubs are gonna WIN TODAYThe Cubs are gonna WIN TODAYThe Cubs are gonna WIN TODAYThe Cubs are gonna WIN TODAYThe Cubs are gonna WIN TODAYThe Cubs are gonna WIN TODAYThe Cubs are gonna WIN TODAYThe Cubs are gonna WIN TODAYThe Cubs are gonna WIN TODAYThe Cubs are gonna WIN TODAYThe Cubs are gonna WIN TODAYThe Cubs are gonna WIN TODAYThe Cubs are gonna WIN TODAYThe Cubs are gonna WIN TODAYThe Cubs are gonna WIN TODAYThe Cubs are gonna WIN TODAYThe Cubs are gonna WIN TODAYThe Cubs are gonna WIN TODAYThe Cubs are gonna WIN TODAYThe Cubs are gonna WIN TODAYThe Cubs are gonna WIN TODAYThe Cubs are gonna WIN TODAYThe Cubs are gonna WIN TODAYThe Cubs are gonna WIN TODAYThe Cubs are gonna WIN TODAYThe Cubs are gonna WIN TODAYThe Cubs are gonna WIN TODAYThe Cubs are gonna WIN TODAYThe Cubs are gonna WIN TODAYThe Cubs are gonna WIN TODAYThe Cubs are gonna WIN TODAYThe Cubs are gonna WIN TODAYThe Cubs are gonna WIN TODAYThe Cubs are gonna WIN TODAYThe Cubs are gonna WIN TODAYThe Cubs are gonna WIN TODAYThe Cubs are gonna WIN TODAYThe Cubs are gonna WIN TODAYThe Cubs are gonna WIN TODAYThe Cubs are gonna WIN TODAYThe Cubs are gonna WIN TODAYThe Cubs are gonna WIN TODAYThe Cubs are gonna WIN TODAYThe Cubs are gonna WIN TODAYThe Cubs are gonna WIN TODAYThe Cubs are gonna WIN TODAYThe Cubs are gonna WIN TODAYThe Cubs are gonna WIN TODAYThe Cubs are gonna WIN TODAYThe Cubs are gonna WIN TODAYThe Cubs are gonna WIN TODAYThe Cubs are gonna WIN TODAYThe Cubs are gonna WIN TODAYThe Cubs are gonna WIN TODAYThe Cubs are gonna WIN TODAYThe Cubs are gonna WIN TODAYThe Cubs are gonna WIN TODAYThe Cubs are gonna WIN TODAYThe Cubs are gonna WIN TODAYThe Cubs are gonna WIN TODAYThe Cubs are gonna WIN TODAYThe Cubs are gonna WIN TODAYThe Cubs are gonna WIN TODAYThe Cubs are gonna WIN TODAYThe Cubs are gonna WIN TODAYThe Cubs are gonna WIN TODAYThe Cubs are gonna WIN TODAYThe Cubs are gonna WIN TODAYThe Cubs are gonna WIN TODAYThe Cubs are gonna WIN TODAYThe Cubs are gonna WIN TODAYThe Cubs are gonna WIN TODAYThe Cubs are gonna WIN TODAYThe Cubs are gonna WIN TODAYThe Cubs are gonna WIN TODAYThe Cubs are gonna WIN TODAYThe Cubs are gonna WIN TODAYThe Cubs are gonna WIN TODAYThe Cubs are gonna WIN TODAYThe Cubs are gonna WIN TODAYThe Cubs are gonna WIN TODAYThe Cubs are gonna WIN TODAYThe Cubs are gonna WIN TODAYThe Cubs are gonna WIN TODAYThe Cubs are gonna WIN TODAYThe Cubs are gonna WIN TODAYThe Cubs are gonna WIN TODAYThe Cubs are gonna WIN TODAYThe Cubs are gonna WIN TODAYThe Cubs are gonna WIN TODAYThe Cubs are gonna WIN TODAYThe Cubs are gonna WIN TODAYThe Cubs are gonna WIN TODAY'"
      ]
     },
     "execution_count": 33,
     "metadata": {},
     "output_type": "execute_result"
    }
   ],
   "source": [
    "100*y"
   ]
  },
  {
   "cell_type": "code",
   "execution_count": 34,
   "id": "86a3f1a2",
   "metadata": {},
   "outputs": [
    {
     "data": {
      "text/plain": [
       "\"GGGGGGGGGGGGGGGGGGGGGGGGGGGGGGGGGGGGGGGGGGGGGGGGGGGGGGGGGGGGGGGGGGGGGGGGGGGGGGGGGGGGGGGGGGGGGGGGGGGGo Cubs Go! Go Cubs Go! Hey Chicago, What d'you say? The Cubs are gonna WIN TODAY\""
      ]
     },
     "execution_count": 34,
     "metadata": {},
     "output_type": "execute_result"
    }
   ],
   "source": [
    "100 * i + r + w + i + r + z + e + i + r + w + i + r + z + e + f + l + y"
   ]
  },
  {
   "cell_type": "code",
   "execution_count": 38,
   "id": "44457916",
   "metadata": {},
   "outputs": [
    {
     "data": {
      "text/plain": [
       "\"Go Cubs Go! Go Cubs Go! Hey Chicago, What d'you say? The Cubs are gonna WIN TODAY! Go Cubs Go! Go Cubs Go! Hey Chicago, What d'you say? The Cubs are gonna WIN TODAY! Go Cubs Go! Go Cubs Go! Hey Chicago, What d'you say? The Cubs are gonna WIN TODAY! Go Cubs Go! Go Cubs Go! Hey Chicago, What d'you say? The Cubs are gonna WIN TODAY! Go Cubs Go! Go Cubs Go! Hey Chicago, What d'you say? The Cubs are gonna WIN TODAY! Go Cubs Go! Go Cubs Go! Hey Chicago, What d'you say? The Cubs are gonna WIN TODAY! Go Cubs Go! Go Cubs Go! Hey Chicago, What d'you say? The Cubs are gonna WIN TODAY! Go Cubs Go! Go Cubs Go! Hey Chicago, What d'you say? The Cubs are gonna WIN TODAY! Go Cubs Go! Go Cubs Go! Hey Chicago, What d'you say? The Cubs are gonna WIN TODAY! Go Cubs Go! Go Cubs Go! Hey Chicago, What d'you say? The Cubs are gonna WIN TODAY! Go Cubs Go! Go Cubs Go! Hey Chicago, What d'you say? The Cubs are gonna WIN TODAY! Go Cubs Go! Go Cubs Go! Hey Chicago, What d'you say? The Cubs are gonna WIN TODAY! Go Cubs Go! Go Cubs Go! Hey Chicago, What d'you say? The Cubs are gonna WIN TODAY! Go Cubs Go! Go Cubs Go! Hey Chicago, What d'you say? The Cubs are gonna WIN TODAY! Go Cubs Go! Go Cubs Go! Hey Chicago, What d'you say? The Cubs are gonna WIN TODAY! Go Cubs Go! Go Cubs Go! Hey Chicago, What d'you say? The Cubs are gonna WIN TODAY! Go Cubs Go! Go Cubs Go! Hey Chicago, What d'you say? The Cubs are gonna WIN TODAY! Go Cubs Go! Go Cubs Go! Hey Chicago, What d'you say? The Cubs are gonna WIN TODAY! Go Cubs Go! Go Cubs Go! Hey Chicago, What d'you say? The Cubs are gonna WIN TODAY! Go Cubs Go! Go Cubs Go! Hey Chicago, What d'you say? The Cubs are gonna WIN TODAY! Go Cubs Go! Go Cubs Go! Hey Chicago, What d'you say? The Cubs are gonna WIN TODAY! Go Cubs Go! Go Cubs Go! Hey Chicago, What d'you say? The Cubs are gonna WIN TODAY! Go Cubs Go! Go Cubs Go! Hey Chicago, What d'you say? The Cubs are gonna WIN TODAY! Go Cubs Go! Go Cubs Go! Hey Chicago, What d'you say? The Cubs are gonna WIN TODAY! Go Cubs Go! Go Cubs Go! Hey Chicago, What d'you say? The Cubs are gonna WIN TODAY! Go Cubs Go! Go Cubs Go! Hey Chicago, What d'you say? The Cubs are gonna WIN TODAY! Go Cubs Go! Go Cubs Go! Hey Chicago, What d'you say? The Cubs are gonna WIN TODAY! Go Cubs Go! Go Cubs Go! Hey Chicago, What d'you say? The Cubs are gonna WIN TODAY! Go Cubs Go! Go Cubs Go! Hey Chicago, What d'you say? The Cubs are gonna WIN TODAY! Go Cubs Go! Go Cubs Go! Hey Chicago, What d'you say? The Cubs are gonna WIN TODAY! Go Cubs Go! Go Cubs Go! Hey Chicago, What d'you say? The Cubs are gonna WIN TODAY! Go Cubs Go! Go Cubs Go! Hey Chicago, What d'you say? The Cubs are gonna WIN TODAY! Go Cubs Go! Go Cubs Go! Hey Chicago, What d'you say? The Cubs are gonna WIN TODAY! Go Cubs Go! Go Cubs Go! Hey Chicago, What d'you say? The Cubs are gonna WIN TODAY! Go Cubs Go! Go Cubs Go! Hey Chicago, What d'you say? The Cubs are gonna WIN TODAY! Go Cubs Go! Go Cubs Go! Hey Chicago, What d'you say? The Cubs are gonna WIN TODAY! Go Cubs Go! Go Cubs Go! Hey Chicago, What d'you say? The Cubs are gonna WIN TODAY! Go Cubs Go! Go Cubs Go! Hey Chicago, What d'you say? The Cubs are gonna WIN TODAY! Go Cubs Go! Go Cubs Go! Hey Chicago, What d'you say? The Cubs are gonna WIN TODAY! Go Cubs Go! Go Cubs Go! Hey Chicago, What d'you say? The Cubs are gonna WIN TODAY! Go Cubs Go! Go Cubs Go! Hey Chicago, What d'you say? The Cubs are gonna WIN TODAY! Go Cubs Go! Go Cubs Go! Hey Chicago, What d'you say? The Cubs are gonna WIN TODAY! Go Cubs Go! Go Cubs Go! Hey Chicago, What d'you say? The Cubs are gonna WIN TODAY! Go Cubs Go! Go Cubs Go! Hey Chicago, What d'you say? The Cubs are gonna WIN TODAY! Go Cubs Go! Go Cubs Go! Hey Chicago, What d'you say? The Cubs are gonna WIN TODAY! Go Cubs Go! Go Cubs Go! Hey Chicago, What d'you say? The Cubs are gonna WIN TODAY! Go Cubs Go! Go Cubs Go! Hey Chicago, What d'you say? The Cubs are gonna WIN TODAY! Go Cubs Go! Go Cubs Go! Hey Chicago, What d'you say? The Cubs are gonna WIN TODAY! Go Cubs Go! Go Cubs Go! Hey Chicago, What d'you say? The Cubs are gonna WIN TODAY! Go Cubs Go! Go Cubs Go! Hey Chicago, What d'you say? The Cubs are gonna WIN TODAY! Go Cubs Go! Go Cubs Go! Hey Chicago, What d'you say? The Cubs are gonna WIN TODAY! Go Cubs Go! Go Cubs Go! Hey Chicago, What d'you say? The Cubs are gonna WIN TODAY! Go Cubs Go! Go Cubs Go! Hey Chicago, What d'you say? The Cubs are gonna WIN TODAY! Go Cubs Go! Go Cubs Go! Hey Chicago, What d'you say? The Cubs are gonna WIN TODAY! Go Cubs Go! Go Cubs Go! Hey Chicago, What d'you say? The Cubs are gonna WIN TODAY! Go Cubs Go! Go Cubs Go! Hey Chicago, What d'you say? The Cubs are gonna WIN TODAY! Go Cubs Go! Go Cubs Go! Hey Chicago, What d'you say? The Cubs are gonna WIN TODAY! Go Cubs Go! Go Cubs Go! Hey Chicago, What d'you say? The Cubs are gonna WIN TODAY! Go Cubs Go! Go Cubs Go! Hey Chicago, What d'you say? The Cubs are gonna WIN TODAY! Go Cubs Go! Go Cubs Go! Hey Chicago, What d'you say? The Cubs are gonna WIN TODAY! Go Cubs Go! Go Cubs Go! Hey Chicago, What d'you say? The Cubs are gonna WIN TODAY! Go Cubs Go! Go Cubs Go! Hey Chicago, What d'you say? The Cubs are gonna WIN TODAY! Go Cubs Go! Go Cubs Go! Hey Chicago, What d'you say? The Cubs are gonna WIN TODAY! Go Cubs Go! Go Cubs Go! Hey Chicago, What d'you say? The Cubs are gonna WIN TODAY! Go Cubs Go! Go Cubs Go! Hey Chicago, What d'you say? The Cubs are gonna WIN TODAY! Go Cubs Go! Go Cubs Go! Hey Chicago, What d'you say? The Cubs are gonna WIN TODAY! Go Cubs Go! Go Cubs Go! Hey Chicago, What d'you say? The Cubs are gonna WIN TODAY! Go Cubs Go! Go Cubs Go! Hey Chicago, What d'you say? The Cubs are gonna WIN TODAY! Go Cubs Go! Go Cubs Go! Hey Chicago, What d'you say? The Cubs are gonna WIN TODAY! Go Cubs Go! Go Cubs Go! Hey Chicago, What d'you say? The Cubs are gonna WIN TODAY! Go Cubs Go! Go Cubs Go! Hey Chicago, What d'you say? The Cubs are gonna WIN TODAY! Go Cubs Go! Go Cubs Go! Hey Chicago, What d'you say? The Cubs are gonna WIN TODAY! Go Cubs Go! Go Cubs Go! Hey Chicago, What d'you say? The Cubs are gonna WIN TODAY! Go Cubs Go! Go Cubs Go! Hey Chicago, What d'you say? The Cubs are gonna WIN TODAY! Go Cubs Go! Go Cubs Go! Hey Chicago, What d'you say? The Cubs are gonna WIN TODAY! Go Cubs Go! Go Cubs Go! Hey Chicago, What d'you say? The Cubs are gonna WIN TODAY! Go Cubs Go! Go Cubs Go! Hey Chicago, What d'you say? The Cubs are gonna WIN TODAY! Go Cubs Go! Go Cubs Go! Hey Chicago, What d'you say? The Cubs are gonna WIN TODAY! Go Cubs Go! Go Cubs Go! Hey Chicago, What d'you say? The Cubs are gonna WIN TODAY! Go Cubs Go! Go Cubs Go! Hey Chicago, What d'you say? The Cubs are gonna WIN TODAY! Go Cubs Go! Go Cubs Go! Hey Chicago, What d'you say? The Cubs are gonna WIN TODAY! Go Cubs Go! Go Cubs Go! Hey Chicago, What d'you say? The Cubs are gonna WIN TODAY! Go Cubs Go! Go Cubs Go! Hey Chicago, What d'you say? The Cubs are gonna WIN TODAY! Go Cubs Go! Go Cubs Go! Hey Chicago, What d'you say? The Cubs are gonna WIN TODAY! Go Cubs Go! Go Cubs Go! Hey Chicago, What d'you say? The Cubs are gonna WIN TODAY! Go Cubs Go! Go Cubs Go! Hey Chicago, What d'you say? The Cubs are gonna WIN TODAY! Go Cubs Go! Go Cubs Go! Hey Chicago, What d'you say? The Cubs are gonna WIN TODAY! Go Cubs Go! Go Cubs Go! Hey Chicago, What d'you say? The Cubs are gonna WIN TODAY! Go Cubs Go! Go Cubs Go! Hey Chicago, What d'you say? The Cubs are gonna WIN TODAY! Go Cubs Go! Go Cubs Go! Hey Chicago, What d'you say? The Cubs are gonna WIN TODAY! Go Cubs Go! Go Cubs Go! Hey Chicago, What d'you say? The Cubs are gonna WIN TODAY! Go Cubs Go! Go Cubs Go! Hey Chicago, What d'you say? The Cubs are gonna WIN TODAY! Go Cubs Go! Go Cubs Go! Hey Chicago, What d'you say? The Cubs are gonna WIN TODAY! Go Cubs Go! Go Cubs Go! Hey Chicago, What d'you say? The Cubs are gonna WIN TODAY! Go Cubs Go! Go Cubs Go! Hey Chicago, What d'you say? The Cubs are gonna WIN TODAY! Go Cubs Go! Go Cubs Go! Hey Chicago, What d'you say? The Cubs are gonna WIN TODAY! Go Cubs Go! Go Cubs Go! Hey Chicago, What d'you say? The Cubs are gonna WIN TODAY! Go Cubs Go! Go Cubs Go! Hey Chicago, What d'you say? The Cubs are gonna WIN TODAY! Go Cubs Go! Go Cubs Go! Hey Chicago, What d'you say? The Cubs are gonna WIN TODAY! Go Cubs Go! Go Cubs Go! Hey Chicago, What d'you say? The Cubs are gonna WIN TODAY! \""
      ]
     },
     "execution_count": 38,
     "metadata": {},
     "output_type": "execute_result"
    }
   ],
   "source": [
    "100 * (i + r + w + i + r + z + e + i + r + w + i + r + z + e + f + l + y + z + e)"
   ]
  },
  {
   "cell_type": "code",
   "execution_count": null,
   "id": "bda9115e",
   "metadata": {},
   "outputs": [],
   "source": []
  }
 ],
 "metadata": {
  "kernelspec": {
   "display_name": "Python 3 (ipykernel)",
   "language": "python",
   "name": "python3"
  },
  "language_info": {
   "codemirror_mode": {
    "name": "ipython",
    "version": 3
   },
   "file_extension": ".py",
   "mimetype": "text/x-python",
   "name": "python",
   "nbconvert_exporter": "python",
   "pygments_lexer": "ipython3",
   "version": "3.11.7"
  }
 },
 "nbformat": 4,
 "nbformat_minor": 5
}
