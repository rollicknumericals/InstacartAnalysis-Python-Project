{
 "cells": [
  {
   "cell_type": "markdown",
   "id": "313028fa-0a7a-4c25-9a7b-e224507fd24e",
   "metadata": {},
   "source": [
    "# Task 4.10 - Part 1.2"
   ]
  },
  {
   "cell_type": "markdown",
   "id": "884948e1-ce92-4aa7-99ed-4f2b808d0003",
   "metadata": {},
   "source": [
    "##### This script contains the following points:"
   ]
  },
  {
   "cell_type": "markdown",
   "id": "2ed95960-5c3c-4d22-9021-e19fc2233932",
   "metadata": {},
   "source": [
    "#### Import libraries"
   ]
  },
  {
   "cell_type": "markdown",
   "id": "4f5429b5-87dc-40d0-90aa-7d5368f43b7c",
   "metadata": {},
   "source": [
    "#### Import data"
   ]
  },
  {
   "cell_type": "markdown",
   "id": "185bf7f0-79f2-4445-a8d9-762e9f1059e6",
   "metadata": {},
   "source": [
    "#### 5. Create profiling variables based on age, income, certain 'department_id' goods, and number of dependents"
   ]
  },
  {
   "cell_type": "markdown",
   "id": "550b800f-bf6a-417e-b4cb-06029cea3261",
   "metadata": {},
   "source": [
    "#### 6. Create visualizations to show the distribution of profiles"
   ]
  },
  {
   "cell_type": "markdown",
   "id": "33501240-3647-4dfb-b1d7-397f2a812944",
   "metadata": {},
   "source": [
    "#### 7. Aggregate the max, mean, and min variables on a customer-profile level for usage frequency and expenditure"
   ]
  },
  {
   "cell_type": "markdown",
   "id": "9d7fcbed-ea24-40c7-8799-dc80b2467ead",
   "metadata": {},
   "source": [
    "#### 8. Compare customer profiles with regions and departments. Identify links between them"
   ]
  },
  {
   "cell_type": "markdown",
   "id": "e1dee9e3-4b64-450b-b2f4-bccbe3b02864",
   "metadata": {},
   "source": [
    "#### 9. Produce suitable charts to illustrate results and export them to project folder"
   ]
  },
  {
   "cell_type": "markdown",
   "id": "a3be94f0-0e1e-4f3e-8107-b77de71067e9",
   "metadata": {},
   "source": [
    "#### 10. Tidy up script, export final data set, save notebook"
   ]
  },
  {
   "cell_type": "markdown",
   "id": "2e602adb-4104-4090-b62f-e276f594d16f",
   "metadata": {},
   "source": [
    "#### Charts for achievement questions"
   ]
  },
  {
   "cell_type": "markdown",
   "id": "638e3669-4ce2-456d-910b-2d5809d95250",
   "metadata": {},
   "source": [
    "# __________________________________________________________________"
   ]
  },
  {
   "cell_type": "markdown",
   "id": "8d067b3c-016c-4a9d-9335-9ed233f651a1",
   "metadata": {},
   "source": [
    "## Import libraries"
   ]
  },
  {
   "cell_type": "code",
   "execution_count": 1,
   "id": "f99c9489-ae5b-415d-83f4-7eceff4cd544",
   "metadata": {},
   "outputs": [],
   "source": [
    "# Import libraries\n",
    "import pandas as pd\n",
    "import numpy as np\n",
    "import os\n",
    "import matplotlib.pyplot as plt\n",
    "import seaborn as sns\n",
    "import scipy"
   ]
  },
  {
   "cell_type": "markdown",
   "id": "dd137fe0-30f1-4817-9b79-ab1dd8a5b4bb",
   "metadata": {},
   "source": [
    "## Import data"
   ]
  },
  {
   "cell_type": "code",
   "execution_count": 2,
   "id": "866854e9-ee1a-430c-af84-8bff5f59b94c",
   "metadata": {},
   "outputs": [],
   "source": [
    "# Set Path\n",
    "path = r'/Users/mainframe/Documents/Instacart Basket Analysis'"
   ]
  },
  {
   "cell_type": "code",
   "execution_count": 3,
   "id": "f0b14f1c-9305-464f-99ab-65fd07abece2",
   "metadata": {},
   "outputs": [],
   "source": [
    "df_acc = pd.read_pickle(os.path.join(path, '02 Data', 'Prepared Data', 'acceptable_customers.pkl'))"
   ]
  },
  {
   "cell_type": "code",
   "execution_count": 4,
   "id": "b8a16eac-65af-4862-9cf3-3796e7357cfe",
   "metadata": {},
   "outputs": [
    {
     "data": {
      "text/html": [
       "<div>\n",
       "<style scoped>\n",
       "    .dataframe tbody tr th:only-of-type {\n",
       "        vertical-align: middle;\n",
       "    }\n",
       "\n",
       "    .dataframe tbody tr th {\n",
       "        vertical-align: top;\n",
       "    }\n",
       "\n",
       "    .dataframe thead th {\n",
       "        text-align: right;\n",
       "    }\n",
       "</style>\n",
       "<table border=\"1\" class=\"dataframe\">\n",
       "  <thead>\n",
       "    <tr style=\"text-align: right;\">\n",
       "      <th></th>\n",
       "      <th>order_id</th>\n",
       "      <th>user_id</th>\n",
       "      <th>order_number</th>\n",
       "      <th>orders_day_of_week</th>\n",
       "      <th>hour_ordered</th>\n",
       "      <th>days_since_prior_order</th>\n",
       "      <th>product_id</th>\n",
       "      <th>add_to_cart_order</th>\n",
       "      <th>reordered</th>\n",
       "      <th>product_name</th>\n",
       "      <th>...</th>\n",
       "      <th>median_days_since_prior_order</th>\n",
       "      <th>frequency_flag</th>\n",
       "      <th>gender</th>\n",
       "      <th>state</th>\n",
       "      <th>age</th>\n",
       "      <th>date_joined</th>\n",
       "      <th>dependents</th>\n",
       "      <th>marital</th>\n",
       "      <th>income</th>\n",
       "      <th>region</th>\n",
       "    </tr>\n",
       "  </thead>\n",
       "  <tbody>\n",
       "    <tr>\n",
       "      <th>0</th>\n",
       "      <td>2539329</td>\n",
       "      <td>1</td>\n",
       "      <td>1</td>\n",
       "      <td>2</td>\n",
       "      <td>8</td>\n",
       "      <td>NaN</td>\n",
       "      <td>196</td>\n",
       "      <td>1</td>\n",
       "      <td>0</td>\n",
       "      <td>Soda</td>\n",
       "      <td>...</td>\n",
       "      <td>20.5</td>\n",
       "      <td>Non-frequent customer</td>\n",
       "      <td>Female</td>\n",
       "      <td>Alabama</td>\n",
       "      <td>31</td>\n",
       "      <td>2/17/2019</td>\n",
       "      <td>3</td>\n",
       "      <td>married</td>\n",
       "      <td>40423</td>\n",
       "      <td>South</td>\n",
       "    </tr>\n",
       "    <tr>\n",
       "      <th>1</th>\n",
       "      <td>2539329</td>\n",
       "      <td>1</td>\n",
       "      <td>1</td>\n",
       "      <td>2</td>\n",
       "      <td>8</td>\n",
       "      <td>NaN</td>\n",
       "      <td>14084</td>\n",
       "      <td>2</td>\n",
       "      <td>0</td>\n",
       "      <td>Organic Unsweetened Vanilla Almond Milk</td>\n",
       "      <td>...</td>\n",
       "      <td>20.5</td>\n",
       "      <td>Non-frequent customer</td>\n",
       "      <td>Female</td>\n",
       "      <td>Alabama</td>\n",
       "      <td>31</td>\n",
       "      <td>2/17/2019</td>\n",
       "      <td>3</td>\n",
       "      <td>married</td>\n",
       "      <td>40423</td>\n",
       "      <td>South</td>\n",
       "    </tr>\n",
       "    <tr>\n",
       "      <th>2</th>\n",
       "      <td>2539329</td>\n",
       "      <td>1</td>\n",
       "      <td>1</td>\n",
       "      <td>2</td>\n",
       "      <td>8</td>\n",
       "      <td>NaN</td>\n",
       "      <td>12427</td>\n",
       "      <td>3</td>\n",
       "      <td>0</td>\n",
       "      <td>Original Beef Jerky</td>\n",
       "      <td>...</td>\n",
       "      <td>20.5</td>\n",
       "      <td>Non-frequent customer</td>\n",
       "      <td>Female</td>\n",
       "      <td>Alabama</td>\n",
       "      <td>31</td>\n",
       "      <td>2/17/2019</td>\n",
       "      <td>3</td>\n",
       "      <td>married</td>\n",
       "      <td>40423</td>\n",
       "      <td>South</td>\n",
       "    </tr>\n",
       "    <tr>\n",
       "      <th>3</th>\n",
       "      <td>2539329</td>\n",
       "      <td>1</td>\n",
       "      <td>1</td>\n",
       "      <td>2</td>\n",
       "      <td>8</td>\n",
       "      <td>NaN</td>\n",
       "      <td>26088</td>\n",
       "      <td>4</td>\n",
       "      <td>0</td>\n",
       "      <td>Aged White Cheddar Popcorn</td>\n",
       "      <td>...</td>\n",
       "      <td>20.5</td>\n",
       "      <td>Non-frequent customer</td>\n",
       "      <td>Female</td>\n",
       "      <td>Alabama</td>\n",
       "      <td>31</td>\n",
       "      <td>2/17/2019</td>\n",
       "      <td>3</td>\n",
       "      <td>married</td>\n",
       "      <td>40423</td>\n",
       "      <td>South</td>\n",
       "    </tr>\n",
       "    <tr>\n",
       "      <th>4</th>\n",
       "      <td>2539329</td>\n",
       "      <td>1</td>\n",
       "      <td>1</td>\n",
       "      <td>2</td>\n",
       "      <td>8</td>\n",
       "      <td>NaN</td>\n",
       "      <td>26405</td>\n",
       "      <td>5</td>\n",
       "      <td>0</td>\n",
       "      <td>XL Pick-A-Size Paper Towel Rolls</td>\n",
       "      <td>...</td>\n",
       "      <td>20.5</td>\n",
       "      <td>Non-frequent customer</td>\n",
       "      <td>Female</td>\n",
       "      <td>Alabama</td>\n",
       "      <td>31</td>\n",
       "      <td>2/17/2019</td>\n",
       "      <td>3</td>\n",
       "      <td>married</td>\n",
       "      <td>40423</td>\n",
       "      <td>South</td>\n",
       "    </tr>\n",
       "  </tbody>\n",
       "</table>\n",
       "<p>5 rows × 31 columns</p>\n",
       "</div>"
      ],
      "text/plain": [
       "   order_id  user_id  order_number  orders_day_of_week  hour_ordered  \\\n",
       "0   2539329        1             1                   2             8   \n",
       "1   2539329        1             1                   2             8   \n",
       "2   2539329        1             1                   2             8   \n",
       "3   2539329        1             1                   2             8   \n",
       "4   2539329        1             1                   2             8   \n",
       "\n",
       "   days_since_prior_order  product_id  add_to_cart_order  reordered  \\\n",
       "0                     NaN         196                  1          0   \n",
       "1                     NaN       14084                  2          0   \n",
       "2                     NaN       12427                  3          0   \n",
       "3                     NaN       26088                  4          0   \n",
       "4                     NaN       26405                  5          0   \n",
       "\n",
       "                              product_name  ...  \\\n",
       "0                                     Soda  ...   \n",
       "1  Organic Unsweetened Vanilla Almond Milk  ...   \n",
       "2                      Original Beef Jerky  ...   \n",
       "3               Aged White Cheddar Popcorn  ...   \n",
       "4         XL Pick-A-Size Paper Towel Rolls  ...   \n",
       "\n",
       "   median_days_since_prior_order         frequency_flag  gender    state age  \\\n",
       "0                           20.5  Non-frequent customer  Female  Alabama  31   \n",
       "1                           20.5  Non-frequent customer  Female  Alabama  31   \n",
       "2                           20.5  Non-frequent customer  Female  Alabama  31   \n",
       "3                           20.5  Non-frequent customer  Female  Alabama  31   \n",
       "4                           20.5  Non-frequent customer  Female  Alabama  31   \n",
       "\n",
       "  date_joined dependents  marital income  region  \n",
       "0   2/17/2019          3  married  40423   South  \n",
       "1   2/17/2019          3  married  40423   South  \n",
       "2   2/17/2019          3  married  40423   South  \n",
       "3   2/17/2019          3  married  40423   South  \n",
       "4   2/17/2019          3  married  40423   South  \n",
       "\n",
       "[5 rows x 31 columns]"
      ]
     },
     "execution_count": 4,
     "metadata": {},
     "output_type": "execute_result"
    }
   ],
   "source": [
    "df_acc.head()"
   ]
  },
  {
   "cell_type": "markdown",
   "id": "910a321a-d129-40bd-b651-35f6cb9fde9b",
   "metadata": {},
   "source": [
    "## 5. Create profiling variables based on age, income, certain 'department_id' goods, and number of dependents"
   ]
  },
  {
   "cell_type": "code",
   "execution_count": 5,
   "id": "0325f98b-6cc8-4ec0-9c4b-7b3404ebd2da",
   "metadata": {},
   "outputs": [],
   "source": [
    "# Set up 'age_group' variable\n",
    "df_acc.loc[df_acc['age'] < 28, 'age_group'] = 'Gen Z'\n",
    "df_acc.loc[(df_acc['age'] >= 28) & (df_acc['age'] <= 43), 'age_group'] = 'Millenial'\n",
    "df_acc.loc[(df_acc['age'] >= 44) & (df_acc['age'] <= 59), 'age_group'] = 'Gen X'\n",
    "df_acc.loc[(df_acc['age'] >= 60) & (df_acc['age'] <= 78), 'age_group'] = 'Baby Boomer'\n",
    "df_acc.loc[df_acc['age'] > 78, 'age_group'] = 'Silent Gen'"
   ]
  },
  {
   "cell_type": "code",
   "execution_count": 6,
   "id": "2cb47b1c-1585-437a-ab56-634ab1725eea",
   "metadata": {},
   "outputs": [
    {
     "data": {
      "text/plain": [
       "age_group\n",
       "Baby Boomer    9087570\n",
       "Gen X          7805548\n",
       "Millenial      7729031\n",
       "Gen Z          4855481\n",
       "Silent Gen     1486934\n",
       "Name: count, dtype: int64"
      ]
     },
     "execution_count": 6,
     "metadata": {},
     "output_type": "execute_result"
    }
   ],
   "source": [
    "# Check distribution of 'age_group' variable\n",
    "df_acc['age_group'].value_counts()"
   ]
  },
  {
   "cell_type": "code",
   "execution_count": 7,
   "id": "38e67c9b-595b-47cd-99a9-e43a3a10b03a",
   "metadata": {},
   "outputs": [],
   "source": [
    "# Set up 'income_level' variable\n",
    "df_acc.loc[df_acc['income'] < 40000, 'income_level'] = 'Lower'\n",
    "df_acc.loc[(df_acc['income'] >= 40000) & (df_acc['income'] <= 80000), 'income_level'] = 'Lower-Middle'\n",
    "df_acc.loc[(df_acc['income'] >= 80001) & (df_acc['income'] <= 120000), 'income_level'] = 'Middle'\n",
    "df_acc.loc[(df_acc['income'] >= 120001) & (df_acc['income'] <= 160000), 'income_level'] = 'Upper-Middle'\n",
    "df_acc.loc[df_acc['income'] > 160000, 'income_level'] = 'Upper'"
   ]
  },
  {
   "cell_type": "code",
   "execution_count": 8,
   "id": "c49c6192-d019-4d8a-a754-bb82d0ded53e",
   "metadata": {},
   "outputs": [
    {
     "data": {
      "text/plain": [
       "income_level\n",
       "Middle          10793131\n",
       "Lower-Middle     9379895\n",
       "Upper-Middle     7051576\n",
       "Upper            2127937\n",
       "Lower            1612025\n",
       "Name: count, dtype: int64"
      ]
     },
     "execution_count": 8,
     "metadata": {},
     "output_type": "execute_result"
    }
   ],
   "source": [
    "# Check distribution of 'income_level' variable\n",
    "df_acc['income_level'].value_counts()"
   ]
  },
  {
   "cell_type": "code",
   "execution_count": 9,
   "id": "53a816f0-64df-4a8e-9602-90c4ef4cf6de",
   "metadata": {},
   "outputs": [
    {
     "data": {
      "text/plain": [
       "dependents\n",
       "3    7772516\n",
       "0    7739681\n",
       "2    7733261\n",
       "1    7719106\n",
       "Name: count, dtype: int64"
      ]
     },
     "execution_count": 9,
     "metadata": {},
     "output_type": "execute_result"
    }
   ],
   "source": [
    "# Check distribution of 'dependents' variable\n",
    "df_acc['dependents'].value_counts()"
   ]
  },
  {
   "cell_type": "markdown",
   "id": "de0cff5e-2397-4c58-9b29-2321acd2b7b4",
   "metadata": {},
   "source": [
    "##### It's difficult to see any reason to set up a separate profile for number of dependents when there are only four possilble outcomes to begin with."
   ]
  },
  {
   "cell_type": "code",
   "execution_count": 10,
   "id": "078ea11b-c27f-4f97-96a8-0c971e601905",
   "metadata": {},
   "outputs": [],
   "source": [
    "# Import departments_wrangled.csv\n",
    "df_depw = pd.read_csv(os.path.join(path, '02 Data', 'Prepared Data', 'departments_wrangled.csv')) "
   ]
  },
  {
   "cell_type": "code",
   "execution_count": 11,
   "id": "2f86108a-9e29-44e8-8002-532445023658",
   "metadata": {},
   "outputs": [
    {
     "name": "stdout",
     "output_type": "stream",
     "text": [
      "<class 'pandas.core.frame.DataFrame'>\n",
      "RangeIndex: 21 entries, 0 to 20\n",
      "Data columns (total 2 columns):\n",
      " #   Column      Non-Null Count  Dtype \n",
      "---  ------      --------------  ----- \n",
      " 0   Unnamed: 0  21 non-null     int64 \n",
      " 1   department  21 non-null     object\n",
      "dtypes: int64(1), object(1)\n",
      "memory usage: 468.0+ bytes\n"
     ]
    }
   ],
   "source": [
    "df_depw.info()"
   ]
  },
  {
   "cell_type": "code",
   "execution_count": 12,
   "id": "79ae6a48-4ab8-4af9-a07f-e4ae749392c4",
   "metadata": {},
   "outputs": [],
   "source": [
    "# Rename unnamed column\n",
    "df_depw.rename(columns = {'Unnamed: 0' : 'department_id'}, inplace = True)"
   ]
  },
  {
   "cell_type": "code",
   "execution_count": 13,
   "id": "3a7a95b0-832c-450b-aabc-d5f6b092d037",
   "metadata": {},
   "outputs": [
    {
     "data": {
      "text/html": [
       "<div>\n",
       "<style scoped>\n",
       "    .dataframe tbody tr th:only-of-type {\n",
       "        vertical-align: middle;\n",
       "    }\n",
       "\n",
       "    .dataframe tbody tr th {\n",
       "        vertical-align: top;\n",
       "    }\n",
       "\n",
       "    .dataframe thead th {\n",
       "        text-align: right;\n",
       "    }\n",
       "</style>\n",
       "<table border=\"1\" class=\"dataframe\">\n",
       "  <thead>\n",
       "    <tr style=\"text-align: right;\">\n",
       "      <th></th>\n",
       "      <th>department_id</th>\n",
       "      <th>department</th>\n",
       "    </tr>\n",
       "  </thead>\n",
       "  <tbody>\n",
       "    <tr>\n",
       "      <th>0</th>\n",
       "      <td>1</td>\n",
       "      <td>frozen</td>\n",
       "    </tr>\n",
       "    <tr>\n",
       "      <th>1</th>\n",
       "      <td>2</td>\n",
       "      <td>other</td>\n",
       "    </tr>\n",
       "    <tr>\n",
       "      <th>2</th>\n",
       "      <td>3</td>\n",
       "      <td>bakery</td>\n",
       "    </tr>\n",
       "    <tr>\n",
       "      <th>3</th>\n",
       "      <td>4</td>\n",
       "      <td>produce</td>\n",
       "    </tr>\n",
       "    <tr>\n",
       "      <th>4</th>\n",
       "      <td>5</td>\n",
       "      <td>alcohol</td>\n",
       "    </tr>\n",
       "    <tr>\n",
       "      <th>5</th>\n",
       "      <td>6</td>\n",
       "      <td>international</td>\n",
       "    </tr>\n",
       "    <tr>\n",
       "      <th>6</th>\n",
       "      <td>7</td>\n",
       "      <td>beverages</td>\n",
       "    </tr>\n",
       "    <tr>\n",
       "      <th>7</th>\n",
       "      <td>8</td>\n",
       "      <td>pets</td>\n",
       "    </tr>\n",
       "    <tr>\n",
       "      <th>8</th>\n",
       "      <td>9</td>\n",
       "      <td>dry goods pasta</td>\n",
       "    </tr>\n",
       "    <tr>\n",
       "      <th>9</th>\n",
       "      <td>10</td>\n",
       "      <td>bulk</td>\n",
       "    </tr>\n",
       "    <tr>\n",
       "      <th>10</th>\n",
       "      <td>11</td>\n",
       "      <td>personal care</td>\n",
       "    </tr>\n",
       "    <tr>\n",
       "      <th>11</th>\n",
       "      <td>12</td>\n",
       "      <td>meat seafood</td>\n",
       "    </tr>\n",
       "    <tr>\n",
       "      <th>12</th>\n",
       "      <td>13</td>\n",
       "      <td>pantry</td>\n",
       "    </tr>\n",
       "    <tr>\n",
       "      <th>13</th>\n",
       "      <td>14</td>\n",
       "      <td>breakfast</td>\n",
       "    </tr>\n",
       "    <tr>\n",
       "      <th>14</th>\n",
       "      <td>15</td>\n",
       "      <td>canned goods</td>\n",
       "    </tr>\n",
       "    <tr>\n",
       "      <th>15</th>\n",
       "      <td>16</td>\n",
       "      <td>dairy eggs</td>\n",
       "    </tr>\n",
       "    <tr>\n",
       "      <th>16</th>\n",
       "      <td>17</td>\n",
       "      <td>household</td>\n",
       "    </tr>\n",
       "    <tr>\n",
       "      <th>17</th>\n",
       "      <td>18</td>\n",
       "      <td>babies</td>\n",
       "    </tr>\n",
       "    <tr>\n",
       "      <th>18</th>\n",
       "      <td>19</td>\n",
       "      <td>snacks</td>\n",
       "    </tr>\n",
       "    <tr>\n",
       "      <th>19</th>\n",
       "      <td>20</td>\n",
       "      <td>deli</td>\n",
       "    </tr>\n",
       "    <tr>\n",
       "      <th>20</th>\n",
       "      <td>21</td>\n",
       "      <td>missing</td>\n",
       "    </tr>\n",
       "  </tbody>\n",
       "</table>\n",
       "</div>"
      ],
      "text/plain": [
       "    department_id       department\n",
       "0               1           frozen\n",
       "1               2            other\n",
       "2               3           bakery\n",
       "3               4          produce\n",
       "4               5          alcohol\n",
       "5               6    international\n",
       "6               7        beverages\n",
       "7               8             pets\n",
       "8               9  dry goods pasta\n",
       "9              10             bulk\n",
       "10             11    personal care\n",
       "11             12     meat seafood\n",
       "12             13           pantry\n",
       "13             14        breakfast\n",
       "14             15     canned goods\n",
       "15             16       dairy eggs\n",
       "16             17        household\n",
       "17             18           babies\n",
       "18             19           snacks\n",
       "19             20             deli\n",
       "20             21          missing"
      ]
     },
     "execution_count": 13,
     "metadata": {},
     "output_type": "execute_result"
    }
   ],
   "source": [
    "df_depw"
   ]
  },
  {
   "cell_type": "code",
   "execution_count": 14,
   "id": "dd2ed283-a245-422f-a595-68550596a8ea",
   "metadata": {},
   "outputs": [],
   "source": [
    "# Change data type to match other dataframe\n",
    "df_depw['department_id'] = df_depw['department_id'].astype('uint8')"
   ]
  },
  {
   "cell_type": "code",
   "execution_count": 15,
   "id": "ba81a3f5-952f-4905-9b38-339219da587f",
   "metadata": {},
   "outputs": [],
   "source": [
    "# Add/merge department names to dataframe\n",
    "df_acc_d = pd.merge(df_acc, df_depw, on = 'department_id', how = 'left')"
   ]
  },
  {
   "cell_type": "code",
   "execution_count": 16,
   "id": "65e00189-b501-4631-9206-006763d4c073",
   "metadata": {},
   "outputs": [
    {
     "data": {
      "text/html": [
       "<div>\n",
       "<style scoped>\n",
       "    .dataframe tbody tr th:only-of-type {\n",
       "        vertical-align: middle;\n",
       "    }\n",
       "\n",
       "    .dataframe tbody tr th {\n",
       "        vertical-align: top;\n",
       "    }\n",
       "\n",
       "    .dataframe thead th {\n",
       "        text-align: right;\n",
       "    }\n",
       "</style>\n",
       "<table border=\"1\" class=\"dataframe\">\n",
       "  <thead>\n",
       "    <tr style=\"text-align: right;\">\n",
       "      <th></th>\n",
       "      <th>order_id</th>\n",
       "      <th>user_id</th>\n",
       "      <th>order_number</th>\n",
       "      <th>orders_day_of_week</th>\n",
       "      <th>hour_ordered</th>\n",
       "      <th>days_since_prior_order</th>\n",
       "      <th>product_id</th>\n",
       "      <th>add_to_cart_order</th>\n",
       "      <th>reordered</th>\n",
       "      <th>product_name</th>\n",
       "      <th>...</th>\n",
       "      <th>state</th>\n",
       "      <th>age</th>\n",
       "      <th>date_joined</th>\n",
       "      <th>dependents</th>\n",
       "      <th>marital</th>\n",
       "      <th>income</th>\n",
       "      <th>region</th>\n",
       "      <th>age_group</th>\n",
       "      <th>income_level</th>\n",
       "      <th>department</th>\n",
       "    </tr>\n",
       "  </thead>\n",
       "  <tbody>\n",
       "    <tr>\n",
       "      <th>0</th>\n",
       "      <td>2539329</td>\n",
       "      <td>1</td>\n",
       "      <td>1</td>\n",
       "      <td>2</td>\n",
       "      <td>8</td>\n",
       "      <td>NaN</td>\n",
       "      <td>196</td>\n",
       "      <td>1</td>\n",
       "      <td>0</td>\n",
       "      <td>Soda</td>\n",
       "      <td>...</td>\n",
       "      <td>Alabama</td>\n",
       "      <td>31</td>\n",
       "      <td>2/17/2019</td>\n",
       "      <td>3</td>\n",
       "      <td>married</td>\n",
       "      <td>40423</td>\n",
       "      <td>South</td>\n",
       "      <td>Millenial</td>\n",
       "      <td>Lower-Middle</td>\n",
       "      <td>beverages</td>\n",
       "    </tr>\n",
       "    <tr>\n",
       "      <th>1</th>\n",
       "      <td>2539329</td>\n",
       "      <td>1</td>\n",
       "      <td>1</td>\n",
       "      <td>2</td>\n",
       "      <td>8</td>\n",
       "      <td>NaN</td>\n",
       "      <td>14084</td>\n",
       "      <td>2</td>\n",
       "      <td>0</td>\n",
       "      <td>Organic Unsweetened Vanilla Almond Milk</td>\n",
       "      <td>...</td>\n",
       "      <td>Alabama</td>\n",
       "      <td>31</td>\n",
       "      <td>2/17/2019</td>\n",
       "      <td>3</td>\n",
       "      <td>married</td>\n",
       "      <td>40423</td>\n",
       "      <td>South</td>\n",
       "      <td>Millenial</td>\n",
       "      <td>Lower-Middle</td>\n",
       "      <td>dairy eggs</td>\n",
       "    </tr>\n",
       "    <tr>\n",
       "      <th>2</th>\n",
       "      <td>2539329</td>\n",
       "      <td>1</td>\n",
       "      <td>1</td>\n",
       "      <td>2</td>\n",
       "      <td>8</td>\n",
       "      <td>NaN</td>\n",
       "      <td>12427</td>\n",
       "      <td>3</td>\n",
       "      <td>0</td>\n",
       "      <td>Original Beef Jerky</td>\n",
       "      <td>...</td>\n",
       "      <td>Alabama</td>\n",
       "      <td>31</td>\n",
       "      <td>2/17/2019</td>\n",
       "      <td>3</td>\n",
       "      <td>married</td>\n",
       "      <td>40423</td>\n",
       "      <td>South</td>\n",
       "      <td>Millenial</td>\n",
       "      <td>Lower-Middle</td>\n",
       "      <td>snacks</td>\n",
       "    </tr>\n",
       "    <tr>\n",
       "      <th>3</th>\n",
       "      <td>2539329</td>\n",
       "      <td>1</td>\n",
       "      <td>1</td>\n",
       "      <td>2</td>\n",
       "      <td>8</td>\n",
       "      <td>NaN</td>\n",
       "      <td>26088</td>\n",
       "      <td>4</td>\n",
       "      <td>0</td>\n",
       "      <td>Aged White Cheddar Popcorn</td>\n",
       "      <td>...</td>\n",
       "      <td>Alabama</td>\n",
       "      <td>31</td>\n",
       "      <td>2/17/2019</td>\n",
       "      <td>3</td>\n",
       "      <td>married</td>\n",
       "      <td>40423</td>\n",
       "      <td>South</td>\n",
       "      <td>Millenial</td>\n",
       "      <td>Lower-Middle</td>\n",
       "      <td>snacks</td>\n",
       "    </tr>\n",
       "    <tr>\n",
       "      <th>4</th>\n",
       "      <td>2539329</td>\n",
       "      <td>1</td>\n",
       "      <td>1</td>\n",
       "      <td>2</td>\n",
       "      <td>8</td>\n",
       "      <td>NaN</td>\n",
       "      <td>26405</td>\n",
       "      <td>5</td>\n",
       "      <td>0</td>\n",
       "      <td>XL Pick-A-Size Paper Towel Rolls</td>\n",
       "      <td>...</td>\n",
       "      <td>Alabama</td>\n",
       "      <td>31</td>\n",
       "      <td>2/17/2019</td>\n",
       "      <td>3</td>\n",
       "      <td>married</td>\n",
       "      <td>40423</td>\n",
       "      <td>South</td>\n",
       "      <td>Millenial</td>\n",
       "      <td>Lower-Middle</td>\n",
       "      <td>household</td>\n",
       "    </tr>\n",
       "  </tbody>\n",
       "</table>\n",
       "<p>5 rows × 34 columns</p>\n",
       "</div>"
      ],
      "text/plain": [
       "   order_id  user_id  order_number  orders_day_of_week  hour_ordered  \\\n",
       "0   2539329        1             1                   2             8   \n",
       "1   2539329        1             1                   2             8   \n",
       "2   2539329        1             1                   2             8   \n",
       "3   2539329        1             1                   2             8   \n",
       "4   2539329        1             1                   2             8   \n",
       "\n",
       "   days_since_prior_order  product_id  add_to_cart_order  reordered  \\\n",
       "0                     NaN         196                  1          0   \n",
       "1                     NaN       14084                  2          0   \n",
       "2                     NaN       12427                  3          0   \n",
       "3                     NaN       26088                  4          0   \n",
       "4                     NaN       26405                  5          0   \n",
       "\n",
       "                              product_name  ...    state  age  date_joined  \\\n",
       "0                                     Soda  ...  Alabama   31    2/17/2019   \n",
       "1  Organic Unsweetened Vanilla Almond Milk  ...  Alabama   31    2/17/2019   \n",
       "2                      Original Beef Jerky  ...  Alabama   31    2/17/2019   \n",
       "3               Aged White Cheddar Popcorn  ...  Alabama   31    2/17/2019   \n",
       "4         XL Pick-A-Size Paper Towel Rolls  ...  Alabama   31    2/17/2019   \n",
       "\n",
       "  dependents  marital income region  age_group  income_level  department  \n",
       "0          3  married  40423  South  Millenial  Lower-Middle   beverages  \n",
       "1          3  married  40423  South  Millenial  Lower-Middle  dairy eggs  \n",
       "2          3  married  40423  South  Millenial  Lower-Middle      snacks  \n",
       "3          3  married  40423  South  Millenial  Lower-Middle      snacks  \n",
       "4          3  married  40423  South  Millenial  Lower-Middle   household  \n",
       "\n",
       "[5 rows x 34 columns]"
      ]
     },
     "execution_count": 16,
     "metadata": {},
     "output_type": "execute_result"
    }
   ],
   "source": [
    "df_acc_d.head()"
   ]
  },
  {
   "cell_type": "code",
   "execution_count": 17,
   "id": "c2555905-a5f2-41e8-b8f8-4819fb0580ac",
   "metadata": {},
   "outputs": [],
   "source": [
    "# Set up 'drinker' variable based on whether or not a user has ordered anything from the 'alcohol' 'department'\n",
    "df_acc_d['drinker'] = ['Yes' if x == 'alcohol' else 'No' for x in df_acc_d['department']]\n",
    "df_acc_d['drinker'] = df_acc_d.groupby('user_id')['drinker'].transform('max')"
   ]
  },
  {
   "cell_type": "code",
   "execution_count": 18,
   "id": "b7f46275-e3ae-4fbd-bfe1-6dd934e538af",
   "metadata": {},
   "outputs": [
    {
     "data": {
      "text/plain": [
       "drinker\n",
       "No     28634074\n",
       "Yes     2330490\n",
       "Name: count, dtype: int64"
      ]
     },
     "execution_count": 18,
     "metadata": {},
     "output_type": "execute_result"
    }
   ],
   "source": [
    "df_acc_d['drinker'].value_counts()"
   ]
  },
  {
   "cell_type": "code",
   "execution_count": 19,
   "id": "49bf32bc-765d-4359-bab9-873d5f540d73",
   "metadata": {},
   "outputs": [],
   "source": [
    "# Set up 'meat_eater' variable based on whether or not a user has ordered anything from the 'meat seafood' 'department'\n",
    "df_acc_d['meat_eater'] = ['Yes' if x == 'meat seafood' else 'No' for x in df_acc_d['department']]\n",
    "df_acc_d['meat_eater'] = df_acc_d.groupby('user_id')['meat_eater'].transform('max')"
   ]
  },
  {
   "cell_type": "code",
   "execution_count": 20,
   "id": "80d7d25b-0f6f-479e-99b6-b5bb449927bc",
   "metadata": {},
   "outputs": [
    {
     "data": {
      "text/plain": [
       "meat_eater\n",
       "Yes    23065332\n",
       "No      7899232\n",
       "Name: count, dtype: int64"
      ]
     },
     "execution_count": 20,
     "metadata": {},
     "output_type": "execute_result"
    }
   ],
   "source": [
    "# Check distribution of 'meat_eater' variable\n",
    "df_acc_d['meat_eater'].value_counts()"
   ]
  },
  {
   "cell_type": "code",
   "execution_count": 21,
   "id": "370e328f-1ccd-44b3-927d-a26dc39dcbe6",
   "metadata": {},
   "outputs": [],
   "source": [
    "# Set up 'buys_in_bulk' variable based on whether or not a user has ordered anything from the 'bulk' 'department'\n",
    "df_acc_d['buys_in_bulk'] = ['Yes' if x == 'bulk' else 'No' for x in df_acc_d['department']]\n",
    "df_acc_d['buys_in_bulk'] = df_acc_d.groupby('user_id')['buys_in_bulk'].transform('max')"
   ]
  },
  {
   "cell_type": "code",
   "execution_count": 22,
   "id": "adcb289f-37b7-4898-b88c-cd92a7be2041",
   "metadata": {},
   "outputs": [
    {
     "data": {
      "text/plain": [
       "buys_in_bulk\n",
       "No     26832984\n",
       "Yes     4131580\n",
       "Name: count, dtype: int64"
      ]
     },
     "execution_count": 22,
     "metadata": {},
     "output_type": "execute_result"
    }
   ],
   "source": [
    "# Check distribution of 'buys_in_bulk' variable\n",
    "df_acc_d['buys_in_bulk'].value_counts()"
   ]
  },
  {
   "cell_type": "markdown",
   "id": "1a2da1d7-ab55-4994-8aac-c9639bfd574b",
   "metadata": {},
   "source": [
    "## 6. Create visualizations to show the distribution of profiles"
   ]
  },
  {
   "cell_type": "code",
   "execution_count": 23,
   "id": "7f21ea55-2e3d-4665-9052-0230094414b3",
   "metadata": {},
   "outputs": [
    {
     "data": {
      "image/png": "[encoded data removed]",
      "text/plain": [
       "<Figure size 640x480 with 1 Axes>"
      ]
     },
     "metadata": {},
     "output_type": "display_data"
    }
   ],
   "source": [
    "# Create bar chart of age group profile\n",
    "age_bar = df_acc_d['age_group'].value_counts().plot.bar(color = ['red', 'blue', 'orange', 'pink', 'green'])"
   ]
  },
  {
   "cell_type": "code",
   "execution_count": 24,
   "id": "0d9e0c1e-68ee-4d09-828a-388e776ac076",
   "metadata": {},
   "outputs": [
    {
     "data": {
      "image/png": "[encoded data removed]",
      "text/plain": [
       "<Figure size 640x480 with 1 Axes>"
      ]
     },
     "metadata": {},
     "output_type": "display_data"
    }
   ],
   "source": [
    "# Create bar chart of income level profile\n",
    "income_bar = df_acc_d['income_level'].value_counts().plot.bar(color = ['purple', 'yellow', 'brown', 'pink', 'blue'])"
   ]
  },
  {
   "cell_type": "code",
   "execution_count": 25,
   "id": "4cea9261-3b03-4db2-839c-cb11024570a7",
   "metadata": {},
   "outputs": [
    {
     "data": {
      "image/png": "[encoded data removed]",
      "text/plain": [
       "<Figure size 640x480 with 1 Axes>"
      ]
     },
     "metadata": {},
     "output_type": "display_data"
    }
   ],
   "source": [
    "# Create bar chart of drinker profile\n",
    "drinker_bar = df_acc_d['drinker'].value_counts().sort_values().plot.barh()"
   ]
  },
  {
   "cell_type": "code",
   "execution_count": 26,
   "id": "65e82d91-099a-40e7-9abc-9611ed59a160",
   "metadata": {},
   "outputs": [
    {
     "data": {
      "image/png": "[encoded data removed]",
      "text/plain": [
       "<Figure size 640x480 with 1 Axes>"
      ]
     },
     "metadata": {},
     "output_type": "display_data"
    }
   ],
   "source": [
    "# Create pie chart of meat eater profile\n",
    "meat_pie = df_acc_d['meat_eater'].value_counts().plot.pie(autopct = ('%1.1f%%'), colors = ['skyblue', 'lightgreen'])"
   ]
  },
  {
   "cell_type": "code",
   "execution_count": 27,
   "id": "fbccb9f5-e200-4426-936e-e7ba065d9efd",
   "metadata": {},
   "outputs": [
    {
     "data": {
      "image/png": "[encoded data removed]",
      "text/plain": [
       "<Figure size 640x480 with 1 Axes>"
      ]
     },
     "metadata": {},
     "output_type": "display_data"
    }
   ],
   "source": [
    "# Create pie chart of buys in bulk profile\n",
    "bulk_pie = df_acc_d['buys_in_bulk'].value_counts().plot.pie(autopct = ('%1.1f%%'), colors = ['gold', 'olive'])"
   ]
  },
  {
   "cell_type": "markdown",
   "id": "c296a1d9-b558-4e7f-918b-f3dc577b55dd",
   "metadata": {},
   "source": [
    "## 7. Aggregate the max, mean, and min variables on a customer-profile level for usage frequency and expenditure"
   ]
  },
  {
   "cell_type": "code",
   "execution_count": 28,
   "id": "216b94ab-daa7-45d6-bc59-53e237eebb3a",
   "metadata": {},
   "outputs": [
    {
     "name": "stdout",
     "output_type": "stream",
     "text": [
      "<class 'pandas.core.frame.DataFrame'>\n",
      "RangeIndex: 30964564 entries, 0 to 30964563\n",
      "Data columns (total 37 columns):\n",
      " #   Column                         Dtype  \n",
      "---  ------                         -----  \n",
      " 0   order_id                       uint32 \n",
      " 1   user_id                        uint32 \n",
      " 2   order_number                   uint8  \n",
      " 3   orders_day_of_week             uint8  \n",
      " 4   hour_ordered                   uint8  \n",
      " 5   days_since_prior_order         float16\n",
      " 6   product_id                     uint16 \n",
      " 7   add_to_cart_order              uint8  \n",
      " 8   reordered                      int8   \n",
      " 9   product_name                   object \n",
      " 10  aisle_id                       uint8  \n",
      " 11  department_id                  uint8  \n",
      " 12  prices                         float64\n",
      " 13  price_range_loc                object \n",
      " 14  busiest_day                    object \n",
      " 15  busiest_days                   object \n",
      " 16  busiest_period_of_day          object \n",
      " 17  max_order                      uint8  \n",
      " 18  loyalty_flag                   object \n",
      " 19  mean_prices                    float64\n",
      " 20  spending_flag                  object \n",
      " 21  median_days_since_prior_order  float16\n",
      " 22  frequency_flag                 object \n",
      " 23  gender                         object \n",
      " 24  state                          object \n",
      " 25  age                            uint8  \n",
      " 26  date_joined                    object \n",
      " 27  dependents                     uint8  \n",
      " 28  marital                        object \n",
      " 29  income                         uint32 \n",
      " 30  region                         object \n",
      " 31  age_group                      object \n",
      " 32  income_level                   object \n",
      " 33  department                     object \n",
      " 34  drinker                        object \n",
      " 35  meat_eater                     object \n",
      " 36  buys_in_bulk                   object \n",
      "dtypes: float16(2), float64(2), int8(1), object(19), uint16(1), uint32(3), uint8(9)\n",
      "memory usage: 5.7+ GB\n"
     ]
    }
   ],
   "source": [
    "df_acc_d.info()"
   ]
  },
  {
   "cell_type": "code",
   "execution_count": 29,
   "id": "21122be9-a99b-44f2-b45e-d8be8dcc54d9",
   "metadata": {},
   "outputs": [
    {
     "data": {
      "text/html": [
       "<div>\n",
       "<style scoped>\n",
       "    .dataframe tbody tr th:only-of-type {\n",
       "        vertical-align: middle;\n",
       "    }\n",
       "\n",
       "    .dataframe tbody tr th {\n",
       "        vertical-align: top;\n",
       "    }\n",
       "\n",
       "    .dataframe thead tr th {\n",
       "        text-align: left;\n",
       "    }\n",
       "\n",
       "    .dataframe thead tr:last-of-type th {\n",
       "        text-align: right;\n",
       "    }\n",
       "</style>\n",
       "<table border=\"1\" class=\"dataframe\">\n",
       "  <thead>\n",
       "    <tr>\n",
       "      <th></th>\n",
       "      <th colspan=\"3\" halign=\"left\">median_days_since_prior_order</th>\n",
       "      <th colspan=\"3\" halign=\"left\">mean_prices</th>\n",
       "    </tr>\n",
       "    <tr>\n",
       "      <th></th>\n",
       "      <th>mean</th>\n",
       "      <th>min</th>\n",
       "      <th>max</th>\n",
       "      <th>mean</th>\n",
       "      <th>min</th>\n",
       "      <th>max</th>\n",
       "    </tr>\n",
       "    <tr>\n",
       "      <th>age_group</th>\n",
       "      <th></th>\n",
       "      <th></th>\n",
       "      <th></th>\n",
       "      <th></th>\n",
       "      <th></th>\n",
       "      <th></th>\n",
       "    </tr>\n",
       "  </thead>\n",
       "  <tbody>\n",
       "    <tr>\n",
       "      <th>Baby Boomer</th>\n",
       "      <td>9.958877</td>\n",
       "      <td>0.0</td>\n",
       "      <td>30.0</td>\n",
       "      <td>11.848988</td>\n",
       "      <td>1.262500</td>\n",
       "      <td>7414.485185</td>\n",
       "    </tr>\n",
       "    <tr>\n",
       "      <th>Gen X</th>\n",
       "      <td>9.988686</td>\n",
       "      <td>0.0</td>\n",
       "      <td>30.0</td>\n",
       "      <td>12.149430</td>\n",
       "      <td>1.000000</td>\n",
       "      <td>15006.940000</td>\n",
       "    </tr>\n",
       "    <tr>\n",
       "      <th>Gen Z</th>\n",
       "      <td>9.934548</td>\n",
       "      <td>0.0</td>\n",
       "      <td>30.0</td>\n",
       "      <td>12.081703</td>\n",
       "      <td>1.628571</td>\n",
       "      <td>10209.987755</td>\n",
       "    </tr>\n",
       "    <tr>\n",
       "      <th>Millenial</th>\n",
       "      <td>9.947955</td>\n",
       "      <td>0.0</td>\n",
       "      <td>30.0</td>\n",
       "      <td>11.908428</td>\n",
       "      <td>1.000000</td>\n",
       "      <td>6983.593023</td>\n",
       "    </tr>\n",
       "    <tr>\n",
       "      <th>Silent Gen</th>\n",
       "      <td>9.902434</td>\n",
       "      <td>0.0</td>\n",
       "      <td>30.0</td>\n",
       "      <td>10.963318</td>\n",
       "      <td>2.000000</td>\n",
       "      <td>14042.512281</td>\n",
       "    </tr>\n",
       "  </tbody>\n",
       "</table>\n",
       "</div>"
      ],
      "text/plain": [
       "            median_days_since_prior_order            mean_prices            \\\n",
       "                                     mean  min   max        mean       min   \n",
       "age_group                                                                    \n",
       "Baby Boomer                      9.958877  0.0  30.0   11.848988  1.262500   \n",
       "Gen X                            9.988686  0.0  30.0   12.149430  1.000000   \n",
       "Gen Z                            9.934548  0.0  30.0   12.081703  1.628571   \n",
       "Millenial                        9.947955  0.0  30.0   11.908428  1.000000   \n",
       "Silent Gen                       9.902434  0.0  30.0   10.963318  2.000000   \n",
       "\n",
       "                           \n",
       "                      max  \n",
       "age_group                  \n",
       "Baby Boomer   7414.485185  \n",
       "Gen X        15006.940000  \n",
       "Gen Z        10209.987755  \n",
       "Millenial     6983.593023  \n",
       "Silent Gen   14042.512281  "
      ]
     },
     "execution_count": 29,
     "metadata": {},
     "output_type": "execute_result"
    }
   ],
   "source": [
    "# Aggregations for age_group\n",
    "df_acc_d.groupby('age_group').agg({'median_days_since_prior_order' : ['mean', 'min', 'max'], 'mean_prices' : ['mean', 'min', 'max']})"
   ]
  },
  {
   "cell_type": "code",
   "execution_count": 30,
   "id": "13945f00-8767-4c92-a933-0185a16cf9b0",
   "metadata": {},
   "outputs": [
    {
     "data": {
      "text/html": [
       "<div>\n",
       "<style scoped>\n",
       "    .dataframe tbody tr th:only-of-type {\n",
       "        vertical-align: middle;\n",
       "    }\n",
       "\n",
       "    .dataframe tbody tr th {\n",
       "        vertical-align: top;\n",
       "    }\n",
       "\n",
       "    .dataframe thead tr th {\n",
       "        text-align: left;\n",
       "    }\n",
       "\n",
       "    .dataframe thead tr:last-of-type th {\n",
       "        text-align: right;\n",
       "    }\n",
       "</style>\n",
       "<table border=\"1\" class=\"dataframe\">\n",
       "  <thead>\n",
       "    <tr>\n",
       "      <th></th>\n",
       "      <th colspan=\"3\" halign=\"left\">median_days_since_prior_order</th>\n",
       "      <th colspan=\"3\" halign=\"left\">mean_prices</th>\n",
       "    </tr>\n",
       "    <tr>\n",
       "      <th></th>\n",
       "      <th>mean</th>\n",
       "      <th>min</th>\n",
       "      <th>max</th>\n",
       "      <th>mean</th>\n",
       "      <th>min</th>\n",
       "      <th>max</th>\n",
       "    </tr>\n",
       "    <tr>\n",
       "      <th>income_level</th>\n",
       "      <th></th>\n",
       "      <th></th>\n",
       "      <th></th>\n",
       "      <th></th>\n",
       "      <th></th>\n",
       "      <th></th>\n",
       "    </tr>\n",
       "  </thead>\n",
       "  <tbody>\n",
       "    <tr>\n",
       "      <th>Lower</th>\n",
       "      <td>10.651765</td>\n",
       "      <td>0.0</td>\n",
       "      <td>30.0</td>\n",
       "      <td>6.502895</td>\n",
       "      <td>1.0</td>\n",
       "      <td>7.000000</td>\n",
       "    </tr>\n",
       "    <tr>\n",
       "      <th>Lower-Middle</th>\n",
       "      <td>9.979227</td>\n",
       "      <td>0.0</td>\n",
       "      <td>30.0</td>\n",
       "      <td>7.671637</td>\n",
       "      <td>1.0</td>\n",
       "      <td>22.256974</td>\n",
       "    </tr>\n",
       "    <tr>\n",
       "      <th>Middle</th>\n",
       "      <td>9.903788</td>\n",
       "      <td>0.0</td>\n",
       "      <td>30.0</td>\n",
       "      <td>9.547763</td>\n",
       "      <td>7.0</td>\n",
       "      <td>5135.893590</td>\n",
       "    </tr>\n",
       "    <tr>\n",
       "      <th>Upper</th>\n",
       "      <td>9.722068</td>\n",
       "      <td>0.0</td>\n",
       "      <td>30.0</td>\n",
       "      <td>47.963436</td>\n",
       "      <td>7.0</td>\n",
       "      <td>15006.940000</td>\n",
       "    </tr>\n",
       "    <tr>\n",
       "      <th>Upper-Middle</th>\n",
       "      <td>9.921563</td>\n",
       "      <td>0.0</td>\n",
       "      <td>30.0</td>\n",
       "      <td>11.623059</td>\n",
       "      <td>7.0</td>\n",
       "      <td>14042.512281</td>\n",
       "    </tr>\n",
       "  </tbody>\n",
       "</table>\n",
       "</div>"
      ],
      "text/plain": [
       "             median_days_since_prior_order            mean_prices       \\\n",
       "                                      mean  min   max        mean  min   \n",
       "income_level                                                             \n",
       "Lower                            10.651765  0.0  30.0    6.502895  1.0   \n",
       "Lower-Middle                      9.979227  0.0  30.0    7.671637  1.0   \n",
       "Middle                            9.903788  0.0  30.0    9.547763  7.0   \n",
       "Upper                             9.722068  0.0  30.0   47.963436  7.0   \n",
       "Upper-Middle                      9.921563  0.0  30.0   11.623059  7.0   \n",
       "\n",
       "                            \n",
       "                       max  \n",
       "income_level                \n",
       "Lower             7.000000  \n",
       "Lower-Middle     22.256974  \n",
       "Middle         5135.893590  \n",
       "Upper         15006.940000  \n",
       "Upper-Middle  14042.512281  "
      ]
     },
     "execution_count": 30,
     "metadata": {},
     "output_type": "execute_result"
    }
   ],
   "source": [
    "# Aggregations for income_level\n",
    "df_acc_d.groupby('income_level').agg({'median_days_since_prior_order' : ['mean', 'min', 'max'], 'mean_prices' : ['mean', 'min', 'max']})"
   ]
  },
  {
   "cell_type": "code",
   "execution_count": 31,
   "id": "f0b9b906-7da8-4cfd-896f-c8b92231dc71",
   "metadata": {},
   "outputs": [
    {
     "data": {
      "text/html": [
       "<div>\n",
       "<style scoped>\n",
       "    .dataframe tbody tr th:only-of-type {\n",
       "        vertical-align: middle;\n",
       "    }\n",
       "\n",
       "    .dataframe tbody tr th {\n",
       "        vertical-align: top;\n",
       "    }\n",
       "\n",
       "    .dataframe thead tr th {\n",
       "        text-align: left;\n",
       "    }\n",
       "\n",
       "    .dataframe thead tr:last-of-type th {\n",
       "        text-align: right;\n",
       "    }\n",
       "</style>\n",
       "<table border=\"1\" class=\"dataframe\">\n",
       "  <thead>\n",
       "    <tr>\n",
       "      <th></th>\n",
       "      <th colspan=\"3\" halign=\"left\">median_days_since_prior_order</th>\n",
       "      <th colspan=\"3\" halign=\"left\">mean_prices</th>\n",
       "    </tr>\n",
       "    <tr>\n",
       "      <th></th>\n",
       "      <th>mean</th>\n",
       "      <th>min</th>\n",
       "      <th>max</th>\n",
       "      <th>mean</th>\n",
       "      <th>min</th>\n",
       "      <th>max</th>\n",
       "    </tr>\n",
       "    <tr>\n",
       "      <th>drinker</th>\n",
       "      <th></th>\n",
       "      <th></th>\n",
       "      <th></th>\n",
       "      <th></th>\n",
       "      <th></th>\n",
       "      <th></th>\n",
       "    </tr>\n",
       "  </thead>\n",
       "  <tbody>\n",
       "    <tr>\n",
       "      <th>No</th>\n",
       "      <td>9.977037</td>\n",
       "      <td>0.0</td>\n",
       "      <td>30.0</td>\n",
       "      <td>10.979561</td>\n",
       "      <td>1.000000</td>\n",
       "      <td>15006.940000</td>\n",
       "    </tr>\n",
       "    <tr>\n",
       "      <th>Yes</th>\n",
       "      <td>9.712662</td>\n",
       "      <td>0.0</td>\n",
       "      <td>30.0</td>\n",
       "      <td>23.654561</td>\n",
       "      <td>2.046154</td>\n",
       "      <td>14042.512281</td>\n",
       "    </tr>\n",
       "  </tbody>\n",
       "</table>\n",
       "</div>"
      ],
      "text/plain": [
       "        median_days_since_prior_order            mean_prices            \\\n",
       "                                 mean  min   max        mean       min   \n",
       "drinker                                                                  \n",
       "No                           9.977037  0.0  30.0   10.979561  1.000000   \n",
       "Yes                          9.712662  0.0  30.0   23.654561  2.046154   \n",
       "\n",
       "                       \n",
       "                  max  \n",
       "drinker                \n",
       "No       15006.940000  \n",
       "Yes      14042.512281  "
      ]
     },
     "execution_count": 31,
     "metadata": {},
     "output_type": "execute_result"
    }
   ],
   "source": [
    "# Aggregations for drinker\n",
    "df_acc_d.groupby('drinker').agg({'median_days_since_prior_order' : ['mean', 'min', 'max'], 'mean_prices' : ['mean', 'min', 'max']})"
   ]
  },
  {
   "cell_type": "code",
   "execution_count": 32,
   "id": "8cb4eee4-7671-49e6-8884-8c62b7792503",
   "metadata": {},
   "outputs": [
    {
     "data": {
      "text/html": [
       "<div>\n",
       "<style scoped>\n",
       "    .dataframe tbody tr th:only-of-type {\n",
       "        vertical-align: middle;\n",
       "    }\n",
       "\n",
       "    .dataframe tbody tr th {\n",
       "        vertical-align: top;\n",
       "    }\n",
       "\n",
       "    .dataframe thead tr th {\n",
       "        text-align: left;\n",
       "    }\n",
       "\n",
       "    .dataframe thead tr:last-of-type th {\n",
       "        text-align: right;\n",
       "    }\n",
       "</style>\n",
       "<table border=\"1\" class=\"dataframe\">\n",
       "  <thead>\n",
       "    <tr>\n",
       "      <th></th>\n",
       "      <th colspan=\"3\" halign=\"left\">median_days_since_prior_order</th>\n",
       "      <th colspan=\"3\" halign=\"left\">mean_prices</th>\n",
       "    </tr>\n",
       "    <tr>\n",
       "      <th></th>\n",
       "      <th>mean</th>\n",
       "      <th>min</th>\n",
       "      <th>max</th>\n",
       "      <th>mean</th>\n",
       "      <th>min</th>\n",
       "      <th>max</th>\n",
       "    </tr>\n",
       "    <tr>\n",
       "      <th>meat_eater</th>\n",
       "      <th></th>\n",
       "      <th></th>\n",
       "      <th></th>\n",
       "      <th></th>\n",
       "      <th></th>\n",
       "      <th></th>\n",
       "    </tr>\n",
       "  </thead>\n",
       "  <tbody>\n",
       "    <tr>\n",
       "      <th>No</th>\n",
       "      <td>10.984921</td>\n",
       "      <td>0.0</td>\n",
       "      <td>30.0</td>\n",
       "      <td>11.751237</td>\n",
       "      <td>1.000000</td>\n",
       "      <td>7414.485185</td>\n",
       "    </tr>\n",
       "    <tr>\n",
       "      <th>Yes</th>\n",
       "      <td>9.605154</td>\n",
       "      <td>0.0</td>\n",
       "      <td>30.0</td>\n",
       "      <td>11.995948</td>\n",
       "      <td>3.278571</td>\n",
       "      <td>15006.940000</td>\n",
       "    </tr>\n",
       "  </tbody>\n",
       "</table>\n",
       "</div>"
      ],
      "text/plain": [
       "           median_days_since_prior_order            mean_prices            \\\n",
       "                                    mean  min   max        mean       min   \n",
       "meat_eater                                                                  \n",
       "No                             10.984921  0.0  30.0   11.751237  1.000000   \n",
       "Yes                             9.605154  0.0  30.0   11.995948  3.278571   \n",
       "\n",
       "                          \n",
       "                     max  \n",
       "meat_eater                \n",
       "No           7414.485185  \n",
       "Yes         15006.940000  "
      ]
     },
     "execution_count": 32,
     "metadata": {},
     "output_type": "execute_result"
    }
   ],
   "source": [
    "# Aggregations for meat_eater\n",
    "df_acc_d.groupby('meat_eater').agg({'median_days_since_prior_order' : ['mean', 'min', 'max'], 'mean_prices' : ['mean', 'min', 'max']})"
   ]
  },
  {
   "cell_type": "code",
   "execution_count": 33,
   "id": "d44e356a-609a-4dc1-a17f-869d4c1f240c",
   "metadata": {},
   "outputs": [
    {
     "data": {
      "text/html": [
       "<div>\n",
       "<style scoped>\n",
       "    .dataframe tbody tr th:only-of-type {\n",
       "        vertical-align: middle;\n",
       "    }\n",
       "\n",
       "    .dataframe tbody tr th {\n",
       "        vertical-align: top;\n",
       "    }\n",
       "\n",
       "    .dataframe thead tr th {\n",
       "        text-align: left;\n",
       "    }\n",
       "\n",
       "    .dataframe thead tr:last-of-type th {\n",
       "        text-align: right;\n",
       "    }\n",
       "</style>\n",
       "<table border=\"1\" class=\"dataframe\">\n",
       "  <thead>\n",
       "    <tr>\n",
       "      <th></th>\n",
       "      <th colspan=\"3\" halign=\"left\">median_days_since_prior_order</th>\n",
       "      <th colspan=\"3\" halign=\"left\">mean_prices</th>\n",
       "    </tr>\n",
       "    <tr>\n",
       "      <th></th>\n",
       "      <th>mean</th>\n",
       "      <th>min</th>\n",
       "      <th>max</th>\n",
       "      <th>mean</th>\n",
       "      <th>min</th>\n",
       "      <th>max</th>\n",
       "    </tr>\n",
       "    <tr>\n",
       "      <th>buys_in_bulk</th>\n",
       "      <th></th>\n",
       "      <th></th>\n",
       "      <th></th>\n",
       "      <th></th>\n",
       "      <th></th>\n",
       "      <th></th>\n",
       "    </tr>\n",
       "  </thead>\n",
       "  <tbody>\n",
       "    <tr>\n",
       "      <th>No</th>\n",
       "      <td>10.293116</td>\n",
       "      <td>0.0</td>\n",
       "      <td>30.0</td>\n",
       "      <td>12.436357</td>\n",
       "      <td>1.0000</td>\n",
       "      <td>15006.940000</td>\n",
       "    </tr>\n",
       "    <tr>\n",
       "      <th>Yes</th>\n",
       "      <td>7.775113</td>\n",
       "      <td>0.0</td>\n",
       "      <td>30.0</td>\n",
       "      <td>8.667801</td>\n",
       "      <td>3.1125</td>\n",
       "      <td>2496.148259</td>\n",
       "    </tr>\n",
       "  </tbody>\n",
       "</table>\n",
       "</div>"
      ],
      "text/plain": [
       "             median_days_since_prior_order            mean_prices          \\\n",
       "                                      mean  min   max        mean     min   \n",
       "buys_in_bulk                                                                \n",
       "No                               10.293116  0.0  30.0   12.436357  1.0000   \n",
       "Yes                               7.775113  0.0  30.0    8.667801  3.1125   \n",
       "\n",
       "                            \n",
       "                       max  \n",
       "buys_in_bulk                \n",
       "No            15006.940000  \n",
       "Yes            2496.148259  "
      ]
     },
     "execution_count": 33,
     "metadata": {},
     "output_type": "execute_result"
    }
   ],
   "source": [
    "# Aggregations for buys_in_bulk\n",
    "df_acc_d.groupby('buys_in_bulk').agg({'median_days_since_prior_order' : ['mean', 'min', 'max'], 'mean_prices' : ['mean', 'min', 'max']})"
   ]
  },
  {
   "cell_type": "markdown",
   "id": "45f727cf-c366-4569-b84b-f60f5a010a78",
   "metadata": {},
   "source": [
    "## 8. Compare customer profiles with regions and departments. Identify links between them. "
   ]
  },
  {
   "cell_type": "code",
   "execution_count": 34,
   "id": "faf0ca09-3f09-4d01-824f-f3ef9b296a7f",
   "metadata": {},
   "outputs": [],
   "source": [
    "# Create crosstab to compare age_group with regions\n",
    "age_region_cross = pd.crosstab(df_acc_d['region'], df_acc_d['age_group'], dropna = False)"
   ]
  },
  {
   "cell_type": "code",
   "execution_count": 35,
   "id": "3e83fc16-3081-405b-8c6c-b021eac670f0",
   "metadata": {},
   "outputs": [
    {
     "data": {
      "text/html": [
       "<div>\n",
       "<style scoped>\n",
       "    .dataframe tbody tr th:only-of-type {\n",
       "        vertical-align: middle;\n",
       "    }\n",
       "\n",
       "    .dataframe tbody tr th {\n",
       "        vertical-align: top;\n",
       "    }\n",
       "\n",
       "    .dataframe thead th {\n",
       "        text-align: right;\n",
       "    }\n",
       "</style>\n",
       "<table border=\"1\" class=\"dataframe\">\n",
       "  <thead>\n",
       "    <tr style=\"text-align: right;\">\n",
       "      <th>age_group</th>\n",
       "      <th>Baby Boomer</th>\n",
       "      <th>Gen X</th>\n",
       "      <th>Gen Z</th>\n",
       "      <th>Millenial</th>\n",
       "      <th>Silent Gen</th>\n",
       "    </tr>\n",
       "    <tr>\n",
       "      <th>region</th>\n",
       "      <th></th>\n",
       "      <th></th>\n",
       "      <th></th>\n",
       "      <th></th>\n",
       "      <th></th>\n",
       "    </tr>\n",
       "  </thead>\n",
       "  <tbody>\n",
       "    <tr>\n",
       "      <th>Midwest</th>\n",
       "      <td>2104771</td>\n",
       "      <td>1858631</td>\n",
       "      <td>1133518</td>\n",
       "      <td>1813921</td>\n",
       "      <td>350672</td>\n",
       "    </tr>\n",
       "    <tr>\n",
       "      <th>Northeast</th>\n",
       "      <td>1623163</td>\n",
       "      <td>1388217</td>\n",
       "      <td>853393</td>\n",
       "      <td>1338846</td>\n",
       "      <td>261066</td>\n",
       "    </tr>\n",
       "    <tr>\n",
       "      <th>South</th>\n",
       "      <td>3023270</td>\n",
       "      <td>2538123</td>\n",
       "      <td>1648744</td>\n",
       "      <td>2602851</td>\n",
       "      <td>498151</td>\n",
       "    </tr>\n",
       "    <tr>\n",
       "      <th>West</th>\n",
       "      <td>2336366</td>\n",
       "      <td>2020577</td>\n",
       "      <td>1219826</td>\n",
       "      <td>1973413</td>\n",
       "      <td>377045</td>\n",
       "    </tr>\n",
       "  </tbody>\n",
       "</table>\n",
       "</div>"
      ],
      "text/plain": [
       "age_group  Baby Boomer    Gen X    Gen Z  Millenial  Silent Gen\n",
       "region                                                         \n",
       "Midwest        2104771  1858631  1133518    1813921      350672\n",
       "Northeast      1623163  1388217   853393    1338846      261066\n",
       "South          3023270  2538123  1648744    2602851      498151\n",
       "West           2336366  2020577  1219826    1973413      377045"
      ]
     },
     "execution_count": 35,
     "metadata": {},
     "output_type": "execute_result"
    }
   ],
   "source": [
    "age_region_cross"
   ]
  },
  {
   "cell_type": "code",
   "execution_count": 36,
   "id": "af55585d-5340-4e36-9cc0-aa5b47b5d70b",
   "metadata": {},
   "outputs": [],
   "source": [
    "# Create crosstab to compare age_group with departments\n",
    "age_depts_cross = pd.crosstab(df_acc_d['department'], df_acc_d['age_group'], dropna = False)"
   ]
  },
  {
   "cell_type": "code",
   "execution_count": 37,
   "id": "c9064915-3dde-433a-801c-2793cb444750",
   "metadata": {},
   "outputs": [
    {
     "data": {
      "text/html": [
       "<div>\n",
       "<style scoped>\n",
       "    .dataframe tbody tr th:only-of-type {\n",
       "        vertical-align: middle;\n",
       "    }\n",
       "\n",
       "    .dataframe tbody tr th {\n",
       "        vertical-align: top;\n",
       "    }\n",
       "\n",
       "    .dataframe thead th {\n",
       "        text-align: right;\n",
       "    }\n",
       "</style>\n",
       "<table border=\"1\" class=\"dataframe\">\n",
       "  <thead>\n",
       "    <tr style=\"text-align: right;\">\n",
       "      <th>age_group</th>\n",
       "      <th>Baby Boomer</th>\n",
       "      <th>Gen X</th>\n",
       "      <th>Gen Z</th>\n",
       "      <th>Millenial</th>\n",
       "      <th>Silent Gen</th>\n",
       "    </tr>\n",
       "    <tr>\n",
       "      <th>department</th>\n",
       "      <th></th>\n",
       "      <th></th>\n",
       "      <th></th>\n",
       "      <th></th>\n",
       "      <th></th>\n",
       "    </tr>\n",
       "  </thead>\n",
       "  <tbody>\n",
       "    <tr>\n",
       "      <th>alcohol</th>\n",
       "      <td>41186</td>\n",
       "      <td>37278</td>\n",
       "      <td>23916</td>\n",
       "      <td>35837</td>\n",
       "      <td>6410</td>\n",
       "    </tr>\n",
       "    <tr>\n",
       "      <th>babies</th>\n",
       "      <td>119328</td>\n",
       "      <td>103839</td>\n",
       "      <td>65114</td>\n",
       "      <td>102701</td>\n",
       "      <td>19410</td>\n",
       "    </tr>\n",
       "    <tr>\n",
       "      <th>bakery</th>\n",
       "      <td>328939</td>\n",
       "      <td>283367</td>\n",
       "      <td>175708</td>\n",
       "      <td>279307</td>\n",
       "      <td>53507</td>\n",
       "    </tr>\n",
       "    <tr>\n",
       "      <th>beverages</th>\n",
       "      <td>760026</td>\n",
       "      <td>655781</td>\n",
       "      <td>398061</td>\n",
       "      <td>634390</td>\n",
       "      <td>123643</td>\n",
       "    </tr>\n",
       "    <tr>\n",
       "      <th>breakfast</th>\n",
       "      <td>195162</td>\n",
       "      <td>169965</td>\n",
       "      <td>106868</td>\n",
       "      <td>166266</td>\n",
       "      <td>32589</td>\n",
       "    </tr>\n",
       "    <tr>\n",
       "      <th>bulk</th>\n",
       "      <td>9689</td>\n",
       "      <td>8394</td>\n",
       "      <td>5372</td>\n",
       "      <td>8261</td>\n",
       "      <td>1735</td>\n",
       "    </tr>\n",
       "    <tr>\n",
       "      <th>canned goods</th>\n",
       "      <td>295908</td>\n",
       "      <td>254831</td>\n",
       "      <td>159414</td>\n",
       "      <td>253382</td>\n",
       "      <td>48539</td>\n",
       "    </tr>\n",
       "    <tr>\n",
       "      <th>dairy eggs</th>\n",
       "      <td>1518084</td>\n",
       "      <td>1301144</td>\n",
       "      <td>815889</td>\n",
       "      <td>1297637</td>\n",
       "      <td>244428</td>\n",
       "    </tr>\n",
       "    <tr>\n",
       "      <th>deli</th>\n",
       "      <td>295320</td>\n",
       "      <td>251946</td>\n",
       "      <td>157154</td>\n",
       "      <td>251399</td>\n",
       "      <td>48015</td>\n",
       "    </tr>\n",
       "    <tr>\n",
       "      <th>dry goods pasta</th>\n",
       "      <td>240818</td>\n",
       "      <td>207840</td>\n",
       "      <td>130166</td>\n",
       "      <td>204028</td>\n",
       "      <td>39284</td>\n",
       "    </tr>\n",
       "    <tr>\n",
       "      <th>frozen</th>\n",
       "      <td>626592</td>\n",
       "      <td>536671</td>\n",
       "      <td>331948</td>\n",
       "      <td>524149</td>\n",
       "      <td>102371</td>\n",
       "    </tr>\n",
       "    <tr>\n",
       "      <th>household</th>\n",
       "      <td>206611</td>\n",
       "      <td>176430</td>\n",
       "      <td>108468</td>\n",
       "      <td>174324</td>\n",
       "      <td>34024</td>\n",
       "    </tr>\n",
       "    <tr>\n",
       "      <th>international</th>\n",
       "      <td>74188</td>\n",
       "      <td>64476</td>\n",
       "      <td>40659</td>\n",
       "      <td>64408</td>\n",
       "      <td>12260</td>\n",
       "    </tr>\n",
       "    <tr>\n",
       "      <th>meat seafood</th>\n",
       "      <td>199272</td>\n",
       "      <td>169446</td>\n",
       "      <td>105984</td>\n",
       "      <td>166599</td>\n",
       "      <td>33480</td>\n",
       "    </tr>\n",
       "    <tr>\n",
       "      <th>missing</th>\n",
       "      <td>18721</td>\n",
       "      <td>16474</td>\n",
       "      <td>10509</td>\n",
       "      <td>15998</td>\n",
       "      <td>3066</td>\n",
       "    </tr>\n",
       "    <tr>\n",
       "      <th>other</th>\n",
       "      <td>10035</td>\n",
       "      <td>8669</td>\n",
       "      <td>5608</td>\n",
       "      <td>8530</td>\n",
       "      <td>1569</td>\n",
       "    </tr>\n",
       "    <tr>\n",
       "      <th>pantry</th>\n",
       "      <td>525232</td>\n",
       "      <td>450391</td>\n",
       "      <td>278397</td>\n",
       "      <td>443956</td>\n",
       "      <td>84729</td>\n",
       "    </tr>\n",
       "    <tr>\n",
       "      <th>personal care</th>\n",
       "      <td>123604</td>\n",
       "      <td>109096</td>\n",
       "      <td>66109</td>\n",
       "      <td>105373</td>\n",
       "      <td>20124</td>\n",
       "    </tr>\n",
       "    <tr>\n",
       "      <th>pets</th>\n",
       "      <td>27737</td>\n",
       "      <td>23007</td>\n",
       "      <td>15106</td>\n",
       "      <td>23192</td>\n",
       "      <td>4018</td>\n",
       "    </tr>\n",
       "    <tr>\n",
       "      <th>produce</th>\n",
       "      <td>2664889</td>\n",
       "      <td>2276888</td>\n",
       "      <td>1420918</td>\n",
       "      <td>2277349</td>\n",
       "      <td>439229</td>\n",
       "    </tr>\n",
       "    <tr>\n",
       "      <th>snacks</th>\n",
       "      <td>806229</td>\n",
       "      <td>699615</td>\n",
       "      <td>434113</td>\n",
       "      <td>691945</td>\n",
       "      <td>134504</td>\n",
       "    </tr>\n",
       "  </tbody>\n",
       "</table>\n",
       "</div>"
      ],
      "text/plain": [
       "age_group        Baby Boomer    Gen X    Gen Z  Millenial  Silent Gen\n",
       "department                                                           \n",
       "alcohol                41186    37278    23916      35837        6410\n",
       "babies                119328   103839    65114     102701       19410\n",
       "bakery                328939   283367   175708     279307       53507\n",
       "beverages             760026   655781   398061     634390      123643\n",
       "breakfast             195162   169965   106868     166266       32589\n",
       "bulk                    9689     8394     5372       8261        1735\n",
       "canned goods          295908   254831   159414     253382       48539\n",
       "dairy eggs           1518084  1301144   815889    1297637      244428\n",
       "deli                  295320   251946   157154     251399       48015\n",
       "dry goods pasta       240818   207840   130166     204028       39284\n",
       "frozen                626592   536671   331948     524149      102371\n",
       "household             206611   176430   108468     174324       34024\n",
       "international          74188    64476    40659      64408       12260\n",
       "meat seafood          199272   169446   105984     166599       33480\n",
       "missing                18721    16474    10509      15998        3066\n",
       "other                  10035     8669     5608       8530        1569\n",
       "pantry                525232   450391   278397     443956       84729\n",
       "personal care         123604   109096    66109     105373       20124\n",
       "pets                   27737    23007    15106      23192        4018\n",
       "produce              2664889  2276888  1420918    2277349      439229\n",
       "snacks                806229   699615   434113     691945      134504"
      ]
     },
     "execution_count": 37,
     "metadata": {},
     "output_type": "execute_result"
    }
   ],
   "source": [
    "age_depts_cross"
   ]
  },
  {
   "cell_type": "code",
   "execution_count": 38,
   "id": "6c539804-cf60-4117-a8ef-35243e079a52",
   "metadata": {},
   "outputs": [],
   "source": [
    "# Create crosstab to compare income_level with regions\n",
    "income_region_cross = pd.crosstab(df_acc_d['region'], df_acc_d['income_level'], dropna = False)"
   ]
  },
  {
   "cell_type": "code",
   "execution_count": 39,
   "id": "bb5bc9b6-7d8a-4a0d-a656-499de78b20db",
   "metadata": {},
   "outputs": [
    {
     "data": {
      "text/html": [
       "<div>\n",
       "<style scoped>\n",
       "    .dataframe tbody tr th:only-of-type {\n",
       "        vertical-align: middle;\n",
       "    }\n",
       "\n",
       "    .dataframe tbody tr th {\n",
       "        vertical-align: top;\n",
       "    }\n",
       "\n",
       "    .dataframe thead th {\n",
       "        text-align: right;\n",
       "    }\n",
       "</style>\n",
       "<table border=\"1\" class=\"dataframe\">\n",
       "  <thead>\n",
       "    <tr style=\"text-align: right;\">\n",
       "      <th>income_level</th>\n",
       "      <th>Lower</th>\n",
       "      <th>Lower-Middle</th>\n",
       "      <th>Middle</th>\n",
       "      <th>Upper</th>\n",
       "      <th>Upper-Middle</th>\n",
       "    </tr>\n",
       "    <tr>\n",
       "      <th>region</th>\n",
       "      <th></th>\n",
       "      <th></th>\n",
       "      <th></th>\n",
       "      <th></th>\n",
       "      <th></th>\n",
       "    </tr>\n",
       "  </thead>\n",
       "  <tbody>\n",
       "    <tr>\n",
       "      <th>Midwest</th>\n",
       "      <td>373583</td>\n",
       "      <td>2171360</td>\n",
       "      <td>2527647</td>\n",
       "      <td>497339</td>\n",
       "      <td>1691584</td>\n",
       "    </tr>\n",
       "    <tr>\n",
       "      <th>Northeast</th>\n",
       "      <td>283124</td>\n",
       "      <td>1624039</td>\n",
       "      <td>1928644</td>\n",
       "      <td>376959</td>\n",
       "      <td>1251919</td>\n",
       "    </tr>\n",
       "    <tr>\n",
       "      <th>South</th>\n",
       "      <td>552104</td>\n",
       "      <td>3150191</td>\n",
       "      <td>3585438</td>\n",
       "      <td>715192</td>\n",
       "      <td>2308214</td>\n",
       "    </tr>\n",
       "    <tr>\n",
       "      <th>West</th>\n",
       "      <td>403214</td>\n",
       "      <td>2434305</td>\n",
       "      <td>2751402</td>\n",
       "      <td>538447</td>\n",
       "      <td>1799859</td>\n",
       "    </tr>\n",
       "  </tbody>\n",
       "</table>\n",
       "</div>"
      ],
      "text/plain": [
       "income_level   Lower  Lower-Middle   Middle   Upper  Upper-Middle\n",
       "region                                                           \n",
       "Midwest       373583       2171360  2527647  497339       1691584\n",
       "Northeast     283124       1624039  1928644  376959       1251919\n",
       "South         552104       3150191  3585438  715192       2308214\n",
       "West          403214       2434305  2751402  538447       1799859"
      ]
     },
     "execution_count": 39,
     "metadata": {},
     "output_type": "execute_result"
    }
   ],
   "source": [
    "income_region_cross"
   ]
  },
  {
   "cell_type": "code",
   "execution_count": 40,
   "id": "62f0689f-3ddf-470d-89d2-d63c6b9dd2e9",
   "metadata": {},
   "outputs": [],
   "source": [
    "# Create crosstab to compare income_level with departments\n",
    "income_depts_cross = pd.crosstab(df_acc_d['department'], df_acc_d['income_level'], dropna = False)"
   ]
  },
  {
   "cell_type": "code",
   "execution_count": 41,
   "id": "fd9662e6-ae24-4b1c-ba39-010a9932ebab",
   "metadata": {},
   "outputs": [
    {
     "data": {
      "text/html": [
       "<div>\n",
       "<style scoped>\n",
       "    .dataframe tbody tr th:only-of-type {\n",
       "        vertical-align: middle;\n",
       "    }\n",
       "\n",
       "    .dataframe tbody tr th {\n",
       "        vertical-align: top;\n",
       "    }\n",
       "\n",
       "    .dataframe thead th {\n",
       "        text-align: right;\n",
       "    }\n",
       "</style>\n",
       "<table border=\"1\" class=\"dataframe\">\n",
       "  <thead>\n",
       "    <tr style=\"text-align: right;\">\n",
       "      <th>income_level</th>\n",
       "      <th>Lower</th>\n",
       "      <th>Lower-Middle</th>\n",
       "      <th>Middle</th>\n",
       "      <th>Upper</th>\n",
       "      <th>Upper-Middle</th>\n",
       "    </tr>\n",
       "    <tr>\n",
       "      <th>department</th>\n",
       "      <th></th>\n",
       "      <th></th>\n",
       "      <th></th>\n",
       "      <th></th>\n",
       "      <th></th>\n",
       "    </tr>\n",
       "  </thead>\n",
       "  <tbody>\n",
       "    <tr>\n",
       "      <th>alcohol</th>\n",
       "      <td>8718</td>\n",
       "      <td>41390</td>\n",
       "      <td>47810</td>\n",
       "      <td>15418</td>\n",
       "      <td>31291</td>\n",
       "    </tr>\n",
       "    <tr>\n",
       "      <th>babies</th>\n",
       "      <td>12547</td>\n",
       "      <td>118651</td>\n",
       "      <td>152371</td>\n",
       "      <td>27515</td>\n",
       "      <td>99308</td>\n",
       "    </tr>\n",
       "    <tr>\n",
       "      <th>bakery</th>\n",
       "      <td>49409</td>\n",
       "      <td>331939</td>\n",
       "      <td>396741</td>\n",
       "      <td>83502</td>\n",
       "      <td>259237</td>\n",
       "    </tr>\n",
       "    <tr>\n",
       "      <th>beverages</th>\n",
       "      <td>191662</td>\n",
       "      <td>803683</td>\n",
       "      <td>846309</td>\n",
       "      <td>174562</td>\n",
       "      <td>555685</td>\n",
       "    </tr>\n",
       "    <tr>\n",
       "      <th>breakfast</th>\n",
       "      <td>46066</td>\n",
       "      <td>209142</td>\n",
       "      <td>223358</td>\n",
       "      <td>45675</td>\n",
       "      <td>146609</td>\n",
       "    </tr>\n",
       "    <tr>\n",
       "      <th>bulk</th>\n",
       "      <td>2247</td>\n",
       "      <td>10872</td>\n",
       "      <td>11444</td>\n",
       "      <td>1873</td>\n",
       "      <td>7015</td>\n",
       "    </tr>\n",
       "    <tr>\n",
       "      <th>canned goods</th>\n",
       "      <td>34946</td>\n",
       "      <td>296573</td>\n",
       "      <td>366522</td>\n",
       "      <td>73079</td>\n",
       "      <td>240954</td>\n",
       "    </tr>\n",
       "    <tr>\n",
       "      <th>dairy eggs</th>\n",
       "      <td>235552</td>\n",
       "      <td>1548564</td>\n",
       "      <td>1838309</td>\n",
       "      <td>358826</td>\n",
       "      <td>1195931</td>\n",
       "    </tr>\n",
       "    <tr>\n",
       "      <th>deli</th>\n",
       "      <td>51355</td>\n",
       "      <td>302885</td>\n",
       "      <td>352418</td>\n",
       "      <td>69028</td>\n",
       "      <td>228148</td>\n",
       "    </tr>\n",
       "    <tr>\n",
       "      <th>dry goods pasta</th>\n",
       "      <td>29283</td>\n",
       "      <td>240782</td>\n",
       "      <td>298562</td>\n",
       "      <td>58827</td>\n",
       "      <td>194682</td>\n",
       "    </tr>\n",
       "    <tr>\n",
       "      <th>frozen</th>\n",
       "      <td>102375</td>\n",
       "      <td>632523</td>\n",
       "      <td>745069</td>\n",
       "      <td>152968</td>\n",
       "      <td>488796</td>\n",
       "    </tr>\n",
       "    <tr>\n",
       "      <th>household</th>\n",
       "      <td>42766</td>\n",
       "      <td>211205</td>\n",
       "      <td>236245</td>\n",
       "      <td>53298</td>\n",
       "      <td>156343</td>\n",
       "    </tr>\n",
       "    <tr>\n",
       "      <th>international</th>\n",
       "      <td>9997</td>\n",
       "      <td>75803</td>\n",
       "      <td>92832</td>\n",
       "      <td>18029</td>\n",
       "      <td>59330</td>\n",
       "    </tr>\n",
       "    <tr>\n",
       "      <th>meat seafood</th>\n",
       "      <td>12907</td>\n",
       "      <td>190515</td>\n",
       "      <td>254333</td>\n",
       "      <td>50295</td>\n",
       "      <td>166731</td>\n",
       "    </tr>\n",
       "    <tr>\n",
       "      <th>missing</th>\n",
       "      <td>3121</td>\n",
       "      <td>20095</td>\n",
       "      <td>22292</td>\n",
       "      <td>4273</td>\n",
       "      <td>14987</td>\n",
       "    </tr>\n",
       "    <tr>\n",
       "      <th>other</th>\n",
       "      <td>1990</td>\n",
       "      <td>10186</td>\n",
       "      <td>11925</td>\n",
       "      <td>2532</td>\n",
       "      <td>7778</td>\n",
       "    </tr>\n",
       "    <tr>\n",
       "      <th>pantry</th>\n",
       "      <td>77129</td>\n",
       "      <td>529413</td>\n",
       "      <td>632783</td>\n",
       "      <td>127458</td>\n",
       "      <td>415922</td>\n",
       "    </tr>\n",
       "    <tr>\n",
       "      <th>personal care</th>\n",
       "      <td>22823</td>\n",
       "      <td>129778</td>\n",
       "      <td>145949</td>\n",
       "      <td>29545</td>\n",
       "      <td>96211</td>\n",
       "    </tr>\n",
       "    <tr>\n",
       "      <th>pets</th>\n",
       "      <td>4421</td>\n",
       "      <td>26454</td>\n",
       "      <td>32342</td>\n",
       "      <td>7302</td>\n",
       "      <td>22541</td>\n",
       "    </tr>\n",
       "    <tr>\n",
       "      <th>produce</th>\n",
       "      <td>380567</td>\n",
       "      <td>2724017</td>\n",
       "      <td>3250357</td>\n",
       "      <td>606144</td>\n",
       "      <td>2118188</td>\n",
       "    </tr>\n",
       "    <tr>\n",
       "      <th>snacks</th>\n",
       "      <td>292144</td>\n",
       "      <td>925425</td>\n",
       "      <td>835160</td>\n",
       "      <td>167788</td>\n",
       "      <td>545889</td>\n",
       "    </tr>\n",
       "  </tbody>\n",
       "</table>\n",
       "</div>"
      ],
      "text/plain": [
       "income_level      Lower  Lower-Middle   Middle   Upper  Upper-Middle\n",
       "department                                                          \n",
       "alcohol            8718         41390    47810   15418         31291\n",
       "babies            12547        118651   152371   27515         99308\n",
       "bakery            49409        331939   396741   83502        259237\n",
       "beverages        191662        803683   846309  174562        555685\n",
       "breakfast         46066        209142   223358   45675        146609\n",
       "bulk               2247         10872    11444    1873          7015\n",
       "canned goods      34946        296573   366522   73079        240954\n",
       "dairy eggs       235552       1548564  1838309  358826       1195931\n",
       "deli              51355        302885   352418   69028        228148\n",
       "dry goods pasta   29283        240782   298562   58827        194682\n",
       "frozen           102375        632523   745069  152968        488796\n",
       "household         42766        211205   236245   53298        156343\n",
       "international      9997         75803    92832   18029         59330\n",
       "meat seafood      12907        190515   254333   50295        166731\n",
       "missing            3121         20095    22292    4273         14987\n",
       "other              1990         10186    11925    2532          7778\n",
       "pantry            77129        529413   632783  127458        415922\n",
       "personal care     22823        129778   145949   29545         96211\n",
       "pets               4421         26454    32342    7302         22541\n",
       "produce          380567       2724017  3250357  606144       2118188\n",
       "snacks           292144        925425   835160  167788        545889"
      ]
     },
     "execution_count": 41,
     "metadata": {},
     "output_type": "execute_result"
    }
   ],
   "source": [
    "income_depts_cross"
   ]
  },
  {
   "cell_type": "code",
   "execution_count": 42,
   "id": "d3033fab-ad1b-4f29-b101-0c08c2be8f35",
   "metadata": {},
   "outputs": [],
   "source": [
    "# Create crosstab to compare drinkers with regions\n",
    "drink_region_cross = pd.crosstab(df_acc_d['region'], df_acc_d['drinker'], dropna = False)"
   ]
  },
  {
   "cell_type": "code",
   "execution_count": 43,
   "id": "0158bf29-2582-4c1e-a1f7-f3d018f8fce6",
   "metadata": {},
   "outputs": [
    {
     "data": {
      "text/html": [
       "<div>\n",
       "<style scoped>\n",
       "    .dataframe tbody tr th:only-of-type {\n",
       "        vertical-align: middle;\n",
       "    }\n",
       "\n",
       "    .dataframe tbody tr th {\n",
       "        vertical-align: top;\n",
       "    }\n",
       "\n",
       "    .dataframe thead th {\n",
       "        text-align: right;\n",
       "    }\n",
       "</style>\n",
       "<table border=\"1\" class=\"dataframe\">\n",
       "  <thead>\n",
       "    <tr style=\"text-align: right;\">\n",
       "      <th>drinker</th>\n",
       "      <th>No</th>\n",
       "      <th>Yes</th>\n",
       "    </tr>\n",
       "    <tr>\n",
       "      <th>region</th>\n",
       "      <th></th>\n",
       "      <th></th>\n",
       "    </tr>\n",
       "  </thead>\n",
       "  <tbody>\n",
       "    <tr>\n",
       "      <th>Midwest</th>\n",
       "      <td>6714244</td>\n",
       "      <td>547269</td>\n",
       "    </tr>\n",
       "    <tr>\n",
       "      <th>Northeast</th>\n",
       "      <td>5072208</td>\n",
       "      <td>392477</td>\n",
       "    </tr>\n",
       "    <tr>\n",
       "      <th>South</th>\n",
       "      <td>9524643</td>\n",
       "      <td>786496</td>\n",
       "    </tr>\n",
       "    <tr>\n",
       "      <th>West</th>\n",
       "      <td>7322979</td>\n",
       "      <td>604248</td>\n",
       "    </tr>\n",
       "  </tbody>\n",
       "</table>\n",
       "</div>"
      ],
      "text/plain": [
       "drinker         No     Yes\n",
       "region                    \n",
       "Midwest    6714244  547269\n",
       "Northeast  5072208  392477\n",
       "South      9524643  786496\n",
       "West       7322979  604248"
      ]
     },
     "execution_count": 43,
     "metadata": {},
     "output_type": "execute_result"
    }
   ],
   "source": [
    "drink_region_cross"
   ]
  },
  {
   "cell_type": "code",
   "execution_count": 44,
   "id": "83fd650c-132c-4531-8f39-493bdad1281e",
   "metadata": {},
   "outputs": [],
   "source": [
    "# Create crosstab to compare meat_eaters with regions\n",
    "meat_region_cross = pd.crosstab(df_acc_d['region'], df_acc_d['meat_eater'], dropna = False)"
   ]
  },
  {
   "cell_type": "code",
   "execution_count": 45,
   "id": "dbc1f331-31fb-4adc-a377-9deb149af084",
   "metadata": {},
   "outputs": [
    {
     "data": {
      "text/html": [
       "<div>\n",
       "<style scoped>\n",
       "    .dataframe tbody tr th:only-of-type {\n",
       "        vertical-align: middle;\n",
       "    }\n",
       "\n",
       "    .dataframe tbody tr th {\n",
       "        vertical-align: top;\n",
       "    }\n",
       "\n",
       "    .dataframe thead th {\n",
       "        text-align: right;\n",
       "    }\n",
       "</style>\n",
       "<table border=\"1\" class=\"dataframe\">\n",
       "  <thead>\n",
       "    <tr style=\"text-align: right;\">\n",
       "      <th>meat_eater</th>\n",
       "      <th>No</th>\n",
       "      <th>Yes</th>\n",
       "    </tr>\n",
       "    <tr>\n",
       "      <th>region</th>\n",
       "      <th></th>\n",
       "      <th></th>\n",
       "    </tr>\n",
       "  </thead>\n",
       "  <tbody>\n",
       "    <tr>\n",
       "      <th>Midwest</th>\n",
       "      <td>1871393</td>\n",
       "      <td>5390120</td>\n",
       "    </tr>\n",
       "    <tr>\n",
       "      <th>Northeast</th>\n",
       "      <td>1388631</td>\n",
       "      <td>4076054</td>\n",
       "    </tr>\n",
       "    <tr>\n",
       "      <th>South</th>\n",
       "      <td>2632994</td>\n",
       "      <td>7678145</td>\n",
       "    </tr>\n",
       "    <tr>\n",
       "      <th>West</th>\n",
       "      <td>2006214</td>\n",
       "      <td>5921013</td>\n",
       "    </tr>\n",
       "  </tbody>\n",
       "</table>\n",
       "</div>"
      ],
      "text/plain": [
       "meat_eater       No      Yes\n",
       "region                      \n",
       "Midwest     1871393  5390120\n",
       "Northeast   1388631  4076054\n",
       "South       2632994  7678145\n",
       "West        2006214  5921013"
      ]
     },
     "execution_count": 45,
     "metadata": {},
     "output_type": "execute_result"
    }
   ],
   "source": [
    "meat_region_cross"
   ]
  },
  {
   "cell_type": "code",
   "execution_count": 46,
   "id": "67e648ea-b732-4bde-9a44-1697bd8000ae",
   "metadata": {},
   "outputs": [],
   "source": [
    "# Create crosstab to compare buys_in_bulk with regions\n",
    "bulk_region_cross = pd.crosstab(df_acc_d['region'], df_acc_d['buys_in_bulk'], dropna = False)"
   ]
  },
  {
   "cell_type": "code",
   "execution_count": 47,
   "id": "d2bf954a-147d-4265-8db2-5da55a9d6fbc",
   "metadata": {},
   "outputs": [
    {
     "data": {
      "text/html": [
       "<div>\n",
       "<style scoped>\n",
       "    .dataframe tbody tr th:only-of-type {\n",
       "        vertical-align: middle;\n",
       "    }\n",
       "\n",
       "    .dataframe tbody tr th {\n",
       "        vertical-align: top;\n",
       "    }\n",
       "\n",
       "    .dataframe thead th {\n",
       "        text-align: right;\n",
       "    }\n",
       "</style>\n",
       "<table border=\"1\" class=\"dataframe\">\n",
       "  <thead>\n",
       "    <tr style=\"text-align: right;\">\n",
       "      <th>buys_in_bulk</th>\n",
       "      <th>No</th>\n",
       "      <th>Yes</th>\n",
       "    </tr>\n",
       "    <tr>\n",
       "      <th>region</th>\n",
       "      <th></th>\n",
       "      <th></th>\n",
       "    </tr>\n",
       "  </thead>\n",
       "  <tbody>\n",
       "    <tr>\n",
       "      <th>Midwest</th>\n",
       "      <td>6302232</td>\n",
       "      <td>959281</td>\n",
       "    </tr>\n",
       "    <tr>\n",
       "      <th>Northeast</th>\n",
       "      <td>4736822</td>\n",
       "      <td>727863</td>\n",
       "    </tr>\n",
       "    <tr>\n",
       "      <th>South</th>\n",
       "      <td>8917763</td>\n",
       "      <td>1393376</td>\n",
       "    </tr>\n",
       "    <tr>\n",
       "      <th>West</th>\n",
       "      <td>6876167</td>\n",
       "      <td>1051060</td>\n",
       "    </tr>\n",
       "  </tbody>\n",
       "</table>\n",
       "</div>"
      ],
      "text/plain": [
       "buys_in_bulk       No      Yes\n",
       "region                        \n",
       "Midwest       6302232   959281\n",
       "Northeast     4736822   727863\n",
       "South         8917763  1393376\n",
       "West          6876167  1051060"
      ]
     },
     "execution_count": 47,
     "metadata": {},
     "output_type": "execute_result"
    }
   ],
   "source": [
    "bulk_region_cross"
   ]
  },
  {
   "cell_type": "markdown",
   "id": "794afbd5-00e1-4933-a8c4-8b8c8e1e8b38",
   "metadata": {},
   "source": [
    "## 9. Produce suitable charts to illustrate results and export them to project folder"
   ]
  },
  {
   "cell_type": "code",
   "execution_count": 48,
   "id": "14758dda-1f87-466b-949b-80964c0a503d",
   "metadata": {},
   "outputs": [
    {
     "data": {
      "image/png": "[encoded data removed]",
      "text/plain": [
       "<Figure size 640x480 with 1 Axes>"
      ]
     },
     "metadata": {},
     "output_type": "display_data"
    }
   ],
   "source": [
    "# Create age-region bar chart\n",
    "age_region_bar = age_region_cross.reindex(['South', 'West', 'Midwest', 'Northeast']).plot(kind='bar', stacked=True)"
   ]
  },
  {
   "cell_type": "code",
   "execution_count": 49,
   "id": "b0b7081c-e595-4a9a-a767-db1193181cd8",
   "metadata": {},
   "outputs": [
    {
     "data": {
      "image/png": "[encoded data removed]",
      "text/plain": [
       "<Figure size 640x480 with 1 Axes>"
      ]
     },
     "metadata": {},
     "output_type": "display_data"
    }
   ],
   "source": [
    "# Create age-departments bar chart\n",
    "age_depts_bar = age_depts_cross.plot(kind = 'bar', stacked = True)"
   ]
  },
  {
   "cell_type": "code",
   "execution_count": 50,
   "id": "4fad2bf7-0c1d-423a-ab54-a9246b02a049",
   "metadata": {},
   "outputs": [
    {
     "data": {
      "image/png": "[encoded data removed]",
      "text/plain": [
       "<Figure size 640x480 with 1 Axes>"
      ]
     },
     "metadata": {},
     "output_type": "display_data"
    }
   ],
   "source": [
    "# Create income-regions bar chart\n",
    "income_region_bar = income_region_cross.reindex(['South', 'West', 'Midwest', 'Northeast']).plot(kind = 'bar', stacked = True)"
   ]
  },
  {
   "cell_type": "code",
   "execution_count": 51,
   "id": "cbbc84ba-9f78-4de1-aa49-5b833f46cf47",
   "metadata": {},
   "outputs": [
    {
     "data": {
      "image/png": "[encoded data removed]",
      "text/plain": [
       "<Figure size 640x480 with 1 Axes>"
      ]
     },
     "metadata": {},
     "output_type": "display_data"
    }
   ],
   "source": [
    "# Create income-departments bar chart\n",
    "income_depts_bar = income_depts_cross.plot(kind = 'bar', stacked = True)"
   ]
  },
  {
   "cell_type": "code",
   "execution_count": 52,
   "id": "9ca8127d-b208-4cef-a9b9-b7df5d0ceb86",
   "metadata": {},
   "outputs": [
    {
     "data": {
      "image/png": "[encoded data removed]",
      "text/plain": [
       "<Figure size 640x480 with 1 Axes>"
      ]
     },
     "metadata": {},
     "output_type": "display_data"
    }
   ],
   "source": [
    "# Create drinker-region bar chart\n",
    "drink_region_bar = drink_region_cross.plot(kind = 'bar', stacked = False)"
   ]
  },
  {
   "cell_type": "code",
   "execution_count": 53,
   "id": "192db85d-5a40-4c42-90b9-4de1e37a2a3b",
   "metadata": {},
   "outputs": [
    {
     "data": {
      "image/png": "[encoded data removed]",
      "text/plain": [
       "<Figure size 640x480 with 1 Axes>"
      ]
     },
     "metadata": {},
     "output_type": "display_data"
    }
   ],
   "source": [
    "# Create meat-eater by regions bar chart\n",
    "meat_region_bar = meat_region_cross.plot(kind = 'bar', stacked = False)"
   ]
  },
  {
   "cell_type": "code",
   "execution_count": 54,
   "id": "8eae39d6-def4-4053-b822-5805a4244ea8",
   "metadata": {},
   "outputs": [
    {
     "data": {
      "image/png": "[encoded data removed]",
      "text/plain": [
       "<Figure size 640x480 with 1 Axes>"
      ]
     },
     "metadata": {},
     "output_type": "display_data"
    }
   ],
   "source": [
    "# Create buys-in-bulk by region bar chart\n",
    "bulk_region_bar = bulk_region_cross.plot(kind = 'bar', stacked = False)"
   ]
  },
  {
   "cell_type": "code",
   "execution_count": 55,
   "id": "aba53766-8921-4c76-913e-615789f2eca4",
   "metadata": {},
   "outputs": [],
   "source": [
    "# Export charts into project folder\n",
    "age_bar.figure.savefig(os.path.join(path, '04 Analysis','Visualizations', 'age_bar.png'))\n",
    "income_bar.figure.savefig(os.path.join(path, '04 Analysis','Visualizations', 'income_bar.png'))\n",
    "drinker_bar.figure.savefig(os.path.join(path, '04 Analysis','Visualizations', 'drinker_bar.png'))\n",
    "meat_pie.figure.savefig(os.path.join(path, '04 Analysis','Visualizations', 'meat_pie.png'))\n",
    "bulk_pie.figure.savefig(os.path.join(path, '04 Analysis','Visualizations', 'bulk_pie.png'))\n",
    "age_region_bar.figure.savefig(os.path.join(path, '04 Analysis','Visualizations', 'age_region_bar.png'))\n",
    "age_depts_bar.figure.savefig(os.path.join(path, '04 Analysis','Visualizations', 'age_depts_bar.png'))\n",
    "income_region_bar.figure.savefig(os.path.join(path, '04 Analysis','Visualizations', 'income_region_bar.png'))\n",
    "income_depts_bar.figure.savefig(os.path.join(path, '04 Analysis','Visualizations', 'income_depts_bar.png'))\n",
    "drink_region_bar.figure.savefig(os.path.join(path, '04 Analysis','Visualizations', 'drink_region_bar.png'))\n",
    "age_region_bar.figure.savefig(os.path.join(path, '04 Analysis','Visualizations', 'age_region_bar.png'))\n",
    "bulk_region_bar.figure.savefig(os.path.join(path, '04 Analysis','Visualizations', 'bulk_region_bar.png'))"
   ]
  },
  {
   "cell_type": "markdown",
   "id": "8a9a1ac4-483e-433e-a93d-7922140d8026",
   "metadata": {},
   "source": [
    "## 10. Tidy up script, export final data set, save notebook"
   ]
  },
  {
   "cell_type": "code",
   "execution_count": 56,
   "id": "acbdb716-4e49-48cb-8fbb-2a4c8a1aa021",
   "metadata": {},
   "outputs": [],
   "source": [
    "df_acc_d.to_pickle(os.path.join(path, '02 Data', 'Prepared Data', 'IC_final_data.pkl'))"
   ]
  },
  {
   "cell_type": "markdown",
   "id": "84d5384d-3a83-4e2e-825d-cb373546bbd5",
   "metadata": {},
   "source": [
    "#### Charts for achievement questions"
   ]
  },
  {
   "cell_type": "code",
   "execution_count": 23,
   "id": "0a5d93df-4684-4389-973b-01e3985d01aa",
   "metadata": {},
   "outputs": [],
   "source": [
    "# Create crosstab to compare price range and departments\n",
    "price_range_depts_cross = pd.crosstab(df_acc_d['department'], df_acc_d['price_range_loc'], dropna = False)"
   ]
  },
  {
   "cell_type": "code",
   "execution_count": 24,
   "id": "b6b4545f-9f05-4c5f-a020-8e3d6f9fb498",
   "metadata": {},
   "outputs": [
    {
     "data": {
      "text/html": [
       "<div>\n",
       "<style scoped>\n",
       "    .dataframe tbody tr th:only-of-type {\n",
       "        vertical-align: middle;\n",
       "    }\n",
       "\n",
       "    .dataframe tbody tr th {\n",
       "        vertical-align: top;\n",
       "    }\n",
       "\n",
       "    .dataframe thead th {\n",
       "        text-align: right;\n",
       "    }\n",
       "</style>\n",
       "<table border=\"1\" class=\"dataframe\">\n",
       "  <thead>\n",
       "    <tr style=\"text-align: right;\">\n",
       "      <th>price_range_loc</th>\n",
       "      <th>High-range product</th>\n",
       "      <th>Low-range product</th>\n",
       "      <th>Mid-range product</th>\n",
       "    </tr>\n",
       "    <tr>\n",
       "      <th>department</th>\n",
       "      <th></th>\n",
       "      <th></th>\n",
       "      <th></th>\n",
       "    </tr>\n",
       "  </thead>\n",
       "  <tbody>\n",
       "    <tr>\n",
       "      <th>alcohol</th>\n",
       "      <td>0</td>\n",
       "      <td>33046</td>\n",
       "      <td>111581</td>\n",
       "    </tr>\n",
       "    <tr>\n",
       "      <th>babies</th>\n",
       "      <td>0</td>\n",
       "      <td>121484</td>\n",
       "      <td>288908</td>\n",
       "    </tr>\n",
       "    <tr>\n",
       "      <th>bakery</th>\n",
       "      <td>0</td>\n",
       "      <td>274986</td>\n",
       "      <td>845842</td>\n",
       "    </tr>\n",
       "    <tr>\n",
       "      <th>beverages</th>\n",
       "      <td>0</td>\n",
       "      <td>814697</td>\n",
       "      <td>1757204</td>\n",
       "    </tr>\n",
       "    <tr>\n",
       "      <th>breakfast</th>\n",
       "      <td>0</td>\n",
       "      <td>209185</td>\n",
       "      <td>461665</td>\n",
       "    </tr>\n",
       "    <tr>\n",
       "      <th>bulk</th>\n",
       "      <td>0</td>\n",
       "      <td>1181</td>\n",
       "      <td>32270</td>\n",
       "    </tr>\n",
       "    <tr>\n",
       "      <th>canned goods</th>\n",
       "      <td>0</td>\n",
       "      <td>281711</td>\n",
       "      <td>730363</td>\n",
       "    </tr>\n",
       "    <tr>\n",
       "      <th>dairy eggs</th>\n",
       "      <td>4877</td>\n",
       "      <td>1370908</td>\n",
       "      <td>3801397</td>\n",
       "    </tr>\n",
       "    <tr>\n",
       "      <th>deli</th>\n",
       "      <td>0</td>\n",
       "      <td>299220</td>\n",
       "      <td>704614</td>\n",
       "    </tr>\n",
       "    <tr>\n",
       "      <th>dry goods pasta</th>\n",
       "      <td>0</td>\n",
       "      <td>284346</td>\n",
       "      <td>537790</td>\n",
       "    </tr>\n",
       "    <tr>\n",
       "      <th>frozen</th>\n",
       "      <td>0</td>\n",
       "      <td>647617</td>\n",
       "      <td>1474114</td>\n",
       "    </tr>\n",
       "    <tr>\n",
       "      <th>household</th>\n",
       "      <td>0</td>\n",
       "      <td>245070</td>\n",
       "      <td>454787</td>\n",
       "    </tr>\n",
       "    <tr>\n",
       "      <th>international</th>\n",
       "      <td>0</td>\n",
       "      <td>73203</td>\n",
       "      <td>182788</td>\n",
       "    </tr>\n",
       "    <tr>\n",
       "      <th>meat seafood</th>\n",
       "      <td>392855</td>\n",
       "      <td>0</td>\n",
       "      <td>281926</td>\n",
       "    </tr>\n",
       "    <tr>\n",
       "      <th>missing</th>\n",
       "      <td>0</td>\n",
       "      <td>18516</td>\n",
       "      <td>46252</td>\n",
       "    </tr>\n",
       "    <tr>\n",
       "      <th>other</th>\n",
       "      <td>0</td>\n",
       "      <td>15259</td>\n",
       "      <td>19152</td>\n",
       "    </tr>\n",
       "    <tr>\n",
       "      <th>pantry</th>\n",
       "      <td>221</td>\n",
       "      <td>504521</td>\n",
       "      <td>1277963</td>\n",
       "    </tr>\n",
       "    <tr>\n",
       "      <th>personal care</th>\n",
       "      <td>0</td>\n",
       "      <td>123874</td>\n",
       "      <td>300432</td>\n",
       "    </tr>\n",
       "    <tr>\n",
       "      <th>pets</th>\n",
       "      <td>0</td>\n",
       "      <td>28165</td>\n",
       "      <td>64895</td>\n",
       "    </tr>\n",
       "    <tr>\n",
       "      <th>produce</th>\n",
       "      <td>0</td>\n",
       "      <td>2585708</td>\n",
       "      <td>6493565</td>\n",
       "    </tr>\n",
       "    <tr>\n",
       "      <th>snacks</th>\n",
       "      <td>0</td>\n",
       "      <td>1742143</td>\n",
       "      <td>1024263</td>\n",
       "    </tr>\n",
       "  </tbody>\n",
       "</table>\n",
       "</div>"
      ],
      "text/plain": [
       "price_range_loc  High-range product  Low-range product  Mid-range product\n",
       "department                                                               \n",
       "alcohol                           0              33046             111581\n",
       "babies                            0             121484             288908\n",
       "bakery                            0             274986             845842\n",
       "beverages                         0             814697            1757204\n",
       "breakfast                         0             209185             461665\n",
       "bulk                              0               1181              32270\n",
       "canned goods                      0             281711             730363\n",
       "dairy eggs                     4877            1370908            3801397\n",
       "deli                              0             299220             704614\n",
       "dry goods pasta                   0             284346             537790\n",
       "frozen                            0             647617            1474114\n",
       "household                         0             245070             454787\n",
       "international                     0              73203             182788\n",
       "meat seafood                 392855                  0             281926\n",
       "missing                           0              18516              46252\n",
       "other                             0              15259              19152\n",
       "pantry                          221             504521            1277963\n",
       "personal care                     0             123874             300432\n",
       "pets                              0              28165              64895\n",
       "produce                           0            2585708            6493565\n",
       "snacks                            0            1742143            1024263"
      ]
     },
     "execution_count": 24,
     "metadata": {},
     "output_type": "execute_result"
    }
   ],
   "source": [
    "price_range_depts_cross"
   ]
  },
  {
   "cell_type": "code",
   "execution_count": 57,
   "id": "faac8fc9-12a0-4c4a-9d10-b54d9a3580c7",
   "metadata": {},
   "outputs": [
    {
     "data": {
      "text/plain": [
       "Text(0, 0.5, 'Product Department')"
      ]
     },
     "execution_count": 57,
     "metadata": {},
     "output_type": "execute_result"
    },
    {
     "data": {
      "image/png": "[encoded data removed]",
      "text/plain": [
       "<Figure size 1000x600 with 1 Axes>"
      ]
     },
     "metadata": {},
     "output_type": "display_data"
    }
   ],
   "source": [
    "# Create price range by departments bar char\n",
    "fig, ax = plt.subplots(figsize = (10,6))\n",
    "plt.subplots_adjust(left = 0.3)\n",
    "plt.title('Number of Products Ordered in each Department by Price Level')\n",
    "price_range_depts_bar = price_range_depts_cross.plot(kind = 'barh', ax = ax, stacked = True)\n",
    "ax.set_xlabel('Number of Products Ordered x 1 million')\n",
    "ax.set_ylabel('Product Department')"
   ]
  },
  {
   "cell_type": "code",
   "execution_count": 63,
   "id": "96921505-967a-44ed-b34a-5efe64c3ca19",
   "metadata": {},
   "outputs": [
    {
     "data": {
      "text/plain": [
       "price_range_loc\n",
       "Mid-range product     20891771\n",
       "Low-range product      9674840\n",
       "High-range product      397953\n",
       "Name: count, dtype: int64"
      ]
     },
     "execution_count": 63,
     "metadata": {},
     "output_type": "execute_result"
    }
   ],
   "source": [
    "# Check distribution of 'price_range_loc' variable\n",
    "df_acc_d['price_range_loc'].value_counts()"
   ]
  },
  {
   "cell_type": "code",
   "execution_count": 64,
   "id": "52cb3420-7751-4a3a-9951-76c27febc549",
   "metadata": {},
   "outputs": [
    {
     "data": {
      "text/plain": [
       "Text(0.5, 0, 'Number of Products Ordered x 10 million')"
      ]
     },
     "execution_count": 64,
     "metadata": {},
     "output_type": "execute_result"
    },
    {
     "data": {
      "image/png": "[encoded data removed]",
      "text/plain": [
       "<Figure size 1000x600 with 1 Axes>"
      ]
     },
     "metadata": {},
     "output_type": "display_data"
    }
   ],
   "source": [
    "# Create price range label bar chart\n",
    "plt.figure(figsize = (10,6))\n",
    "plt.subplots_adjust(left = 0.3)\n",
    "plt.title('Number of Products Ordered at each Price Level')\n",
    "price_bar = df_acc_d['price_range_loc'].value_counts().sort_values().plot.barh(color = ['royalblue', 'chocolate', 'green'])\n",
    "plt.ylabel('Price Level')\n",
    "plt.xlabel('Number of Products Ordered x 10 million')"
   ]
  },
  {
   "cell_type": "code",
   "execution_count": 27,
   "id": "4cd279b6-2b69-46c0-a862-8ecfe202c796",
   "metadata": {},
   "outputs": [],
   "source": [
    "# Find top 20 products most frequently ordered\n",
    "top_prods = df_acc_d['product_name'].value_counts().head(20)"
   ]
  },
  {
   "cell_type": "code",
   "execution_count": 28,
   "id": "82ccf5c6-87dd-4533-a7d1-425ab87bfc89",
   "metadata": {},
   "outputs": [
    {
     "data": {
      "text/plain": [
       "product_name\n",
       "Banana                      453164\n",
       "Bag of Organic Bananas      366403\n",
       "Organic Strawberries        255988\n",
       "Organic Baby Spinach        231772\n",
       "Organic Hass Avocado        206799\n",
       "Organic Avocado             168267\n",
       "Large Lemon                 145397\n",
       "Strawberries                136330\n",
       "Limes                       134751\n",
       "Organic Whole Milk          133514\n",
       "Organic Raspberries         132945\n",
       "Organic Yellow Onion        109219\n",
       "Organic Garlic              105639\n",
       "Organic Zucchini            100664\n",
       "Organic Blueberries          95637\n",
       "Cucumber Kirby               92612\n",
       "Organic Fuji Apple           85941\n",
       "Organic Lemon                84608\n",
       "Apple Honeycrisp Organic     82349\n",
       "Organic Grape Tomatoes       80756\n",
       "Name: count, dtype: int64"
      ]
     },
     "execution_count": 28,
     "metadata": {},
     "output_type": "execute_result"
    }
   ],
   "source": [
    "top_prods"
   ]
  },
  {
   "cell_type": "code",
   "execution_count": 65,
   "id": "e9acf3ac-31ef-41c2-81e8-b441dabc529c",
   "metadata": {},
   "outputs": [
    {
     "data": {
      "text/plain": [
       "Text(0, 0.5, 'Product Name')"
      ]
     },
     "execution_count": 65,
     "metadata": {},
     "output_type": "execute_result"
    },
    {
     "data": {
      "image/png": "[encoded data removed]",
      "text/plain": [
       "<Figure size 1000x600 with 1 Axes>"
      ]
     },
     "metadata": {},
     "output_type": "display_data"
    }
   ],
   "source": [
    "# Create histogram of top 20 items ordered\n",
    "plt.figure(figsize = (10,6))\n",
    "plt.subplots_adjust(left = 0.3)\n",
    "plt.title('Top 20 Products Ordered')\n",
    "top_prods_hist = top_prods.sort_values().plot.barh(color = 'teal')\n",
    "plt.xlabel('Number of Products')\n",
    "plt.ylabel('Product Name')"
   ]
  },
  {
   "cell_type": "code",
   "execution_count": 66,
   "id": "7bcd8d2b-3cd7-4b42-b552-eef86a79142d",
   "metadata": {},
   "outputs": [],
   "source": [
    "# Export achievemtnt charts\n",
    "price_bar.figure.savefig(os.path.join(path, '04 Analysis','Visualizations', 'price_bar.png'))\n",
    "price_range_depts_bar.figure.savefig(os.path.join(path, '04 Analysis','Visualizations', 'prices_depts_bar.png'))\n",
    "top_prods_hist.figure.savefig(os.path.join(path, '04 Analysis','Visualizations', 'top_prods_hist.png'))"
   ]
  },
  {
   "cell_type": "code",
   "execution_count": null,
   "id": "8bd03594-cdaf-4be8-8b2c-39e6fe8bda89",
   "metadata": {},
   "outputs": [],
   "source": []
  }
 ],
 "metadata": {
  "kernelspec": {
   "display_name": "Python 3 (ipykernel)",
   "language": "python",
   "name": "python3"
  },
  "language_info": {
   "codemirror_mode": {
    "name": "ipython",
    "version": 3
   },
   "file_extension": ".py",
   "mimetype": "text/x-python",
   "name": "python",
   "nbconvert_exporter": "python",
   "pygments_lexer": "ipython3",
   "version": "3.11.7"
  }
 },
 "nbformat": 4,
 "nbformat_minor": 5
}
