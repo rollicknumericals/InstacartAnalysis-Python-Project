{
 "cells": [
  {
   "cell_type": "markdown",
   "id": "d44f6dc0-169d-492a-b98a-b903fbda2a8d",
   "metadata": {},
   "source": [
    "## 4.9 Task - Part 1"
   ]
  },
  {
   "cell_type": "markdown",
   "id": "39767de5-90d6-4f83-8145-ff7f9bbf22b5",
   "metadata": {},
   "source": [
    "##### This script contains the following points:"
   ]
  },
  {
   "cell_type": "markdown",
   "id": "064b733a-5d6c-4442-8bb6-87479315fa82",
   "metadata": {},
   "source": [
    "#### 3. Import libraries and data"
   ]
  },
  {
   "cell_type": "markdown",
   "id": "d1e48983-879c-4473-bc68-126c25df106b",
   "metadata": {},
   "source": [
    "#### 4. Wrangle data"
   ]
  },
  {
   "cell_type": "markdown",
   "id": "46ac7107-68a5-4fc9-9c13-4f9fbd338481",
   "metadata": {},
   "source": [
    "#### 5. Complete fundamental data quality and consistency checks"
   ]
  },
  {
   "cell_type": "markdown",
   "id": "191ea876-f06c-4a28-97fb-7b22430fc6c1",
   "metadata": {},
   "source": [
    "#### 6. Combine customer data with prepared IC data"
   ]
  },
  {
   "cell_type": "markdown",
   "id": "95504698-1179-4f2e-9683-fa16ef84c2dc",
   "metadata": {},
   "source": [
    "#### 7. Export data as pickle"
   ]
  },
  {
   "cell_type": "markdown",
   "id": "4d2da2b8-7b1a-42f0-8171-9281fb26ac2f",
   "metadata": {},
   "source": [
    "# ____________________________________________________________________"
   ]
  },
  {
   "cell_type": "markdown",
   "id": "ca8b3d0d-b0ea-46d0-8d40-ee7aaea36b26",
   "metadata": {},
   "source": [
    "####"
   ]
  },
  {
   "cell_type": "markdown",
   "id": "c25dbf5b-b210-471f-abf9-2a0f8fb568f3",
   "metadata": {},
   "source": [
    "### 3. Import libraries and data"
   ]
  },
  {
   "cell_type": "code",
   "execution_count": 1,
   "id": "46b38f8c-c8b9-490c-b27f-26799c6d6102",
   "metadata": {},
   "outputs": [],
   "source": [
    "# Import libraries\n",
    "import pandas as pd\n",
    "import numpy as np\n",
    "import os\n",
    "import matplotlib.pyplot as plt\n",
    "import seaborn as sns\n",
    "import scipy"
   ]
  },
  {
   "cell_type": "code",
   "execution_count": 2,
   "id": "d979dd5d-9443-400c-85ca-83dd43f79e62",
   "metadata": {},
   "outputs": [],
   "source": [
    "# Set path\n",
    "path = r'/Users/mainframe/Documents/Instacart Basket Analysis'"
   ]
  },
  {
   "cell_type": "code",
   "execution_count": 3,
   "id": "ca97694d-cbcc-4957-ad1c-b692ba915b5c",
   "metadata": {},
   "outputs": [],
   "source": [
    "# Import Data\n",
    "df_customer = pd.read_csv(os.path.join(path, '02 Data', 'Original Data', 'customers.csv'), index_col = False)"
   ]
  },
  {
   "cell_type": "code",
   "execution_count": 4,
   "id": "187c7ba3-389d-4cd7-871e-ce713215f358",
   "metadata": {},
   "outputs": [
    {
     "data": {
      "text/html": [
       "<div>\n",
       "<style scoped>\n",
       "    .dataframe tbody tr th:only-of-type {\n",
       "        vertical-align: middle;\n",
       "    }\n",
       "\n",
       "    .dataframe tbody tr th {\n",
       "        vertical-align: top;\n",
       "    }\n",
       "\n",
       "    .dataframe thead th {\n",
       "        text-align: right;\n",
       "    }\n",
       "</style>\n",
       "<table border=\"1\" class=\"dataframe\">\n",
       "  <thead>\n",
       "    <tr style=\"text-align: right;\">\n",
       "      <th></th>\n",
       "      <th>user_id</th>\n",
       "      <th>First Name</th>\n",
       "      <th>Surnam</th>\n",
       "      <th>Gender</th>\n",
       "      <th>STATE</th>\n",
       "      <th>Age</th>\n",
       "      <th>date_joined</th>\n",
       "      <th>n_dependants</th>\n",
       "      <th>fam_status</th>\n",
       "      <th>income</th>\n",
       "    </tr>\n",
       "  </thead>\n",
       "  <tbody>\n",
       "    <tr>\n",
       "      <th>0</th>\n",
       "      <td>26711</td>\n",
       "      <td>Deborah</td>\n",
       "      <td>Esquivel</td>\n",
       "      <td>Female</td>\n",
       "      <td>Missouri</td>\n",
       "      <td>48</td>\n",
       "      <td>1/1/2017</td>\n",
       "      <td>3</td>\n",
       "      <td>married</td>\n",
       "      <td>165665</td>\n",
       "    </tr>\n",
       "    <tr>\n",
       "      <th>1</th>\n",
       "      <td>33890</td>\n",
       "      <td>Patricia</td>\n",
       "      <td>Hart</td>\n",
       "      <td>Female</td>\n",
       "      <td>New Mexico</td>\n",
       "      <td>36</td>\n",
       "      <td>1/1/2017</td>\n",
       "      <td>0</td>\n",
       "      <td>single</td>\n",
       "      <td>59285</td>\n",
       "    </tr>\n",
       "    <tr>\n",
       "      <th>2</th>\n",
       "      <td>65803</td>\n",
       "      <td>Kenneth</td>\n",
       "      <td>Farley</td>\n",
       "      <td>Male</td>\n",
       "      <td>Idaho</td>\n",
       "      <td>35</td>\n",
       "      <td>1/1/2017</td>\n",
       "      <td>2</td>\n",
       "      <td>married</td>\n",
       "      <td>99568</td>\n",
       "    </tr>\n",
       "    <tr>\n",
       "      <th>3</th>\n",
       "      <td>125935</td>\n",
       "      <td>Michelle</td>\n",
       "      <td>Hicks</td>\n",
       "      <td>Female</td>\n",
       "      <td>Iowa</td>\n",
       "      <td>40</td>\n",
       "      <td>1/1/2017</td>\n",
       "      <td>0</td>\n",
       "      <td>single</td>\n",
       "      <td>42049</td>\n",
       "    </tr>\n",
       "    <tr>\n",
       "      <th>4</th>\n",
       "      <td>130797</td>\n",
       "      <td>Ann</td>\n",
       "      <td>Gilmore</td>\n",
       "      <td>Female</td>\n",
       "      <td>Maryland</td>\n",
       "      <td>26</td>\n",
       "      <td>1/1/2017</td>\n",
       "      <td>1</td>\n",
       "      <td>married</td>\n",
       "      <td>40374</td>\n",
       "    </tr>\n",
       "  </tbody>\n",
       "</table>\n",
       "</div>"
      ],
      "text/plain": [
       "   user_id First Name    Surnam  Gender       STATE  Age date_joined  \\\n",
       "0    26711    Deborah  Esquivel  Female    Missouri   48    1/1/2017   \n",
       "1    33890   Patricia      Hart  Female  New Mexico   36    1/1/2017   \n",
       "2    65803    Kenneth    Farley    Male       Idaho   35    1/1/2017   \n",
       "3   125935   Michelle     Hicks  Female        Iowa   40    1/1/2017   \n",
       "4   130797        Ann   Gilmore  Female    Maryland   26    1/1/2017   \n",
       "\n",
       "   n_dependants fam_status  income  \n",
       "0             3    married  165665  \n",
       "1             0     single   59285  \n",
       "2             2    married   99568  \n",
       "3             0     single   42049  \n",
       "4             1    married   40374  "
      ]
     },
     "execution_count": 4,
     "metadata": {},
     "output_type": "execute_result"
    }
   ],
   "source": [
    "# Check data\n",
    "df_customer.head()"
   ]
  },
  {
   "cell_type": "code",
   "execution_count": 5,
   "id": "4846a57b-e36b-4e54-bc2b-e8c25241a23c",
   "metadata": {},
   "outputs": [
    {
     "data": {
      "text/html": [
       "<div>\n",
       "<style scoped>\n",
       "    .dataframe tbody tr th:only-of-type {\n",
       "        vertical-align: middle;\n",
       "    }\n",
       "\n",
       "    .dataframe tbody tr th {\n",
       "        vertical-align: top;\n",
       "    }\n",
       "\n",
       "    .dataframe thead th {\n",
       "        text-align: right;\n",
       "    }\n",
       "</style>\n",
       "<table border=\"1\" class=\"dataframe\">\n",
       "  <thead>\n",
       "    <tr style=\"text-align: right;\">\n",
       "      <th></th>\n",
       "      <th>user_id</th>\n",
       "      <th>Age</th>\n",
       "      <th>n_dependants</th>\n",
       "      <th>income</th>\n",
       "    </tr>\n",
       "  </thead>\n",
       "  <tbody>\n",
       "    <tr>\n",
       "      <th>count</th>\n",
       "      <td>206209.000000</td>\n",
       "      <td>206209.000000</td>\n",
       "      <td>206209.000000</td>\n",
       "      <td>206209.000000</td>\n",
       "    </tr>\n",
       "    <tr>\n",
       "      <th>mean</th>\n",
       "      <td>103105.000000</td>\n",
       "      <td>49.501646</td>\n",
       "      <td>1.499823</td>\n",
       "      <td>94632.852548</td>\n",
       "    </tr>\n",
       "    <tr>\n",
       "      <th>std</th>\n",
       "      <td>59527.555167</td>\n",
       "      <td>18.480962</td>\n",
       "      <td>1.118433</td>\n",
       "      <td>42473.786988</td>\n",
       "    </tr>\n",
       "    <tr>\n",
       "      <th>min</th>\n",
       "      <td>1.000000</td>\n",
       "      <td>18.000000</td>\n",
       "      <td>0.000000</td>\n",
       "      <td>25903.000000</td>\n",
       "    </tr>\n",
       "    <tr>\n",
       "      <th>25%</th>\n",
       "      <td>51553.000000</td>\n",
       "      <td>33.000000</td>\n",
       "      <td>0.000000</td>\n",
       "      <td>59874.000000</td>\n",
       "    </tr>\n",
       "    <tr>\n",
       "      <th>50%</th>\n",
       "      <td>103105.000000</td>\n",
       "      <td>49.000000</td>\n",
       "      <td>1.000000</td>\n",
       "      <td>93547.000000</td>\n",
       "    </tr>\n",
       "    <tr>\n",
       "      <th>75%</th>\n",
       "      <td>154657.000000</td>\n",
       "      <td>66.000000</td>\n",
       "      <td>3.000000</td>\n",
       "      <td>124244.000000</td>\n",
       "    </tr>\n",
       "    <tr>\n",
       "      <th>max</th>\n",
       "      <td>206209.000000</td>\n",
       "      <td>81.000000</td>\n",
       "      <td>3.000000</td>\n",
       "      <td>593901.000000</td>\n",
       "    </tr>\n",
       "  </tbody>\n",
       "</table>\n",
       "</div>"
      ],
      "text/plain": [
       "             user_id            Age   n_dependants         income\n",
       "count  206209.000000  206209.000000  206209.000000  206209.000000\n",
       "mean   103105.000000      49.501646       1.499823   94632.852548\n",
       "std     59527.555167      18.480962       1.118433   42473.786988\n",
       "min         1.000000      18.000000       0.000000   25903.000000\n",
       "25%     51553.000000      33.000000       0.000000   59874.000000\n",
       "50%    103105.000000      49.000000       1.000000   93547.000000\n",
       "75%    154657.000000      66.000000       3.000000  124244.000000\n",
       "max    206209.000000      81.000000       3.000000  593901.000000"
      ]
     },
     "execution_count": 5,
     "metadata": {},
     "output_type": "execute_result"
    }
   ],
   "source": [
    "df_customer.describe()"
   ]
  },
  {
   "cell_type": "code",
   "execution_count": 6,
   "id": "e787190c-5f14-439b-bc11-6ff616c5af94",
   "metadata": {},
   "outputs": [
    {
     "name": "stdout",
     "output_type": "stream",
     "text": [
      "<class 'pandas.core.frame.DataFrame'>\n",
      "RangeIndex: 206209 entries, 0 to 206208\n",
      "Data columns (total 10 columns):\n",
      " #   Column        Non-Null Count   Dtype \n",
      "---  ------        --------------   ----- \n",
      " 0   user_id       206209 non-null  int64 \n",
      " 1   First Name    194950 non-null  object\n",
      " 2   Surnam        206209 non-null  object\n",
      " 3   Gender        206209 non-null  object\n",
      " 4   STATE         206209 non-null  object\n",
      " 5   Age           206209 non-null  int64 \n",
      " 6   date_joined   206209 non-null  object\n",
      " 7   n_dependants  206209 non-null  int64 \n",
      " 8   fam_status    206209 non-null  object\n",
      " 9   income        206209 non-null  int64 \n",
      "dtypes: int64(4), object(6)\n",
      "memory usage: 15.7+ MB\n"
     ]
    }
   ],
   "source": [
    "df_customer.info()"
   ]
  },
  {
   "cell_type": "markdown",
   "id": "72a5eee0-7c23-419d-9fb8-86c0e2a8de7f",
   "metadata": {},
   "source": [
    "### 4. Wrangle data"
   ]
  },
  {
   "cell_type": "code",
   "execution_count": 7,
   "id": "0d21d73f-7663-4021-b6a6-c4500c8d9b0b",
   "metadata": {},
   "outputs": [],
   "source": [
    "# Drop 'First Name' and 'Surnam' columns\n",
    "df_customer = df_customer.drop(columns = ['First Name', 'Surnam'])"
   ]
  },
  {
   "cell_type": "code",
   "execution_count": 8,
   "id": "0f7853ed-ec91-4881-aa18-091459ccc907",
   "metadata": {},
   "outputs": [],
   "source": [
    "# Re-name columns\n",
    "df_customer.rename(columns = {'Gender' : 'gender', 'STATE' : 'state', 'Age' : 'age', 'n_dependants' : 'dependents', 'fam_status' : 'marital'}, inplace = True)"
   ]
  },
  {
   "cell_type": "code",
   "execution_count": 9,
   "id": "0b6aa26b-7a53-4d29-a79e-e051edd5cd9e",
   "metadata": {},
   "outputs": [
    {
     "name": "stdout",
     "output_type": "stream",
     "text": [
      "Index(['user_id', 'gender', 'state', 'age', 'date_joined', 'dependents',\n",
      "       'marital', 'income'],\n",
      "      dtype='object')\n"
     ]
    }
   ],
   "source": [
    "# Check columns\n",
    "print(df_customer.columns)"
   ]
  },
  {
   "cell_type": "markdown",
   "id": "a636a5ec-77d0-47ab-8357-6afa2661d3b7",
   "metadata": {},
   "source": [
    "### 5. Complete fundamental data quality and consistency checks"
   ]
  },
  {
   "cell_type": "code",
   "execution_count": 10,
   "id": "ae0383b9-c0e0-4612-96c2-c42a5eca2925",
   "metadata": {},
   "outputs": [
    {
     "name": "stderr",
     "output_type": "stream",
     "text": [
      "/var/folders/rg/l7v73y996hv36vxgfkdf06lc0000gp/T/ipykernel_72776/2126102000.py:3: FutureWarning: DataFrame.applymap has been deprecated. Use DataFrame.map instead.\n",
      "  weird = (df_customer[[col]].applymap(type) != df_customer[[col]].iloc[0].apply(type)).any(axis = 1)\n",
      "/var/folders/rg/l7v73y996hv36vxgfkdf06lc0000gp/T/ipykernel_72776/2126102000.py:3: FutureWarning: DataFrame.applymap has been deprecated. Use DataFrame.map instead.\n",
      "  weird = (df_customer[[col]].applymap(type) != df_customer[[col]].iloc[0].apply(type)).any(axis = 1)\n",
      "/var/folders/rg/l7v73y996hv36vxgfkdf06lc0000gp/T/ipykernel_72776/2126102000.py:3: FutureWarning: DataFrame.applymap has been deprecated. Use DataFrame.map instead.\n",
      "  weird = (df_customer[[col]].applymap(type) != df_customer[[col]].iloc[0].apply(type)).any(axis = 1)\n",
      "/var/folders/rg/l7v73y996hv36vxgfkdf06lc0000gp/T/ipykernel_72776/2126102000.py:3: FutureWarning: DataFrame.applymap has been deprecated. Use DataFrame.map instead.\n",
      "  weird = (df_customer[[col]].applymap(type) != df_customer[[col]].iloc[0].apply(type)).any(axis = 1)\n",
      "/var/folders/rg/l7v73y996hv36vxgfkdf06lc0000gp/T/ipykernel_72776/2126102000.py:3: FutureWarning: DataFrame.applymap has been deprecated. Use DataFrame.map instead.\n",
      "  weird = (df_customer[[col]].applymap(type) != df_customer[[col]].iloc[0].apply(type)).any(axis = 1)\n",
      "/var/folders/rg/l7v73y996hv36vxgfkdf06lc0000gp/T/ipykernel_72776/2126102000.py:3: FutureWarning: DataFrame.applymap has been deprecated. Use DataFrame.map instead.\n",
      "  weird = (df_customer[[col]].applymap(type) != df_customer[[col]].iloc[0].apply(type)).any(axis = 1)\n",
      "/var/folders/rg/l7v73y996hv36vxgfkdf06lc0000gp/T/ipykernel_72776/2126102000.py:3: FutureWarning: DataFrame.applymap has been deprecated. Use DataFrame.map instead.\n",
      "  weird = (df_customer[[col]].applymap(type) != df_customer[[col]].iloc[0].apply(type)).any(axis = 1)\n",
      "/var/folders/rg/l7v73y996hv36vxgfkdf06lc0000gp/T/ipykernel_72776/2126102000.py:3: FutureWarning: DataFrame.applymap has been deprecated. Use DataFrame.map instead.\n",
      "  weird = (df_customer[[col]].applymap(type) != df_customer[[col]].iloc[0].apply(type)).any(axis = 1)\n"
     ]
    }
   ],
   "source": [
    "# Check for mixed-type data\n",
    "for col in df_customer.columns.tolist():\n",
    "    weird = (df_customer[[col]].applymap(type) != df_customer[[col]].iloc[0].apply(type)).any(axis = 1)\n",
    "    if len (df_customer[weird]) > 0:\n",
    "        print (col)"
   ]
  },
  {
   "cell_type": "code",
   "execution_count": 11,
   "id": "6a1414a7-13fb-4834-99ab-dff0cadf240f",
   "metadata": {},
   "outputs": [
    {
     "data": {
      "text/plain": [
       "user_id        0\n",
       "gender         0\n",
       "state          0\n",
       "age            0\n",
       "date_joined    0\n",
       "dependents     0\n",
       "marital        0\n",
       "income         0\n",
       "dtype: int64"
      ]
     },
     "execution_count": 11,
     "metadata": {},
     "output_type": "execute_result"
    }
   ],
   "source": [
    "# Check for missing values\n",
    "df_customer.isnull().sum()"
   ]
  },
  {
   "cell_type": "code",
   "execution_count": 12,
   "id": "47810f54-be4e-4fc5-a04a-1f76ddeefb25",
   "metadata": {},
   "outputs": [],
   "source": [
    "# Check for duplicates\n",
    "df_dups = df_customer[df_customer.duplicated()]"
   ]
  },
  {
   "cell_type": "code",
   "execution_count": 13,
   "id": "3ec823b4-61a2-4166-b461-73be53c15f6e",
   "metadata": {},
   "outputs": [
    {
     "data": {
      "text/html": [
       "<div>\n",
       "<style scoped>\n",
       "    .dataframe tbody tr th:only-of-type {\n",
       "        vertical-align: middle;\n",
       "    }\n",
       "\n",
       "    .dataframe tbody tr th {\n",
       "        vertical-align: top;\n",
       "    }\n",
       "\n",
       "    .dataframe thead th {\n",
       "        text-align: right;\n",
       "    }\n",
       "</style>\n",
       "<table border=\"1\" class=\"dataframe\">\n",
       "  <thead>\n",
       "    <tr style=\"text-align: right;\">\n",
       "      <th></th>\n",
       "      <th>user_id</th>\n",
       "      <th>gender</th>\n",
       "      <th>state</th>\n",
       "      <th>age</th>\n",
       "      <th>date_joined</th>\n",
       "      <th>dependents</th>\n",
       "      <th>marital</th>\n",
       "      <th>income</th>\n",
       "    </tr>\n",
       "  </thead>\n",
       "  <tbody>\n",
       "  </tbody>\n",
       "</table>\n",
       "</div>"
      ],
      "text/plain": [
       "Empty DataFrame\n",
       "Columns: [user_id, gender, state, age, date_joined, dependents, marital, income]\n",
       "Index: []"
      ]
     },
     "execution_count": 13,
     "metadata": {},
     "output_type": "execute_result"
    }
   ],
   "source": [
    "df_dups"
   ]
  },
  {
   "cell_type": "markdown",
   "id": "2fb9fd99-357e-43bb-9f92-6a124b40ce4e",
   "metadata": {},
   "source": [
    "### 6. Combine customer data with rest of prepared IC data"
   ]
  },
  {
   "cell_type": "code",
   "execution_count": 14,
   "id": "7abd05ae-e3df-4cda-8111-7ad9ca47b273",
   "metadata": {},
   "outputs": [],
   "source": [
    "# Change data types\n",
    "df_customer['user_id'] = df_customer['user_id'].astype('uint32')\n",
    "df_customer['age'] = df_customer['age'].astype('uint8')\n",
    "df_customer['dependents'] = df_customer['dependents'].astype('uint8')\n",
    "df_customer['income'] = df_customer['income'].astype('uint32')"
   ]
  },
  {
   "cell_type": "code",
   "execution_count": 15,
   "id": "63a91fec-1c7a-419f-900d-f72e99c8427a",
   "metadata": {},
   "outputs": [
    {
     "name": "stdout",
     "output_type": "stream",
     "text": [
      "<class 'pandas.core.frame.DataFrame'>\n",
      "RangeIndex: 206209 entries, 0 to 206208\n",
      "Data columns (total 8 columns):\n",
      " #   Column       Non-Null Count   Dtype \n",
      "---  ------       --------------   ----- \n",
      " 0   user_id      206209 non-null  uint32\n",
      " 1   gender       206209 non-null  object\n",
      " 2   state        206209 non-null  object\n",
      " 3   age          206209 non-null  uint8 \n",
      " 4   date_joined  206209 non-null  object\n",
      " 5   dependents   206209 non-null  uint8 \n",
      " 6   marital      206209 non-null  object\n",
      " 7   income       206209 non-null  uint32\n",
      "dtypes: object(4), uint32(2), uint8(2)\n",
      "memory usage: 8.3+ MB\n"
     ]
    }
   ],
   "source": [
    "df_customer.info()"
   ]
  },
  {
   "cell_type": "code",
   "execution_count": 16,
   "id": "a35caaa9-716b-46d4-ad57-c1cd7532461b",
   "metadata": {},
   "outputs": [],
   "source": [
    "# Import prepared IC data\n",
    "prepped_IC_df = pd.read_pickle(os.path.join(path, '02 Data', 'Prepared Data', 'opmd_outliers_dropped.pkl'))"
   ]
  },
  {
   "cell_type": "code",
   "execution_count": 17,
   "id": "1213aa02-688a-45f2-9ee0-f47f77081399",
   "metadata": {},
   "outputs": [
    {
     "name": "stdout",
     "output_type": "stream",
     "text": [
      "<class 'pandas.core.frame.DataFrame'>\n",
      "RangeIndex: 32404859 entries, 0 to 32404858\n",
      "Data columns (total 24 columns):\n",
      " #   Column                         Dtype   \n",
      "---  ------                         -----   \n",
      " 0   order_id                       uint32  \n",
      " 1   user_id                        uint32  \n",
      " 2   order_number                   uint8   \n",
      " 3   orders_day_of_week             uint8   \n",
      " 4   hour_ordered                   uint8   \n",
      " 5   days_since_prior_order         float16 \n",
      " 6   product_id                     uint16  \n",
      " 7   add_to_cart_order              uint8   \n",
      " 8   reordered                      int8    \n",
      " 9   product_name                   object  \n",
      " 10  aisle_id                       uint8   \n",
      " 11  department_id                  uint8   \n",
      " 12  prices                         float64 \n",
      " 13  _merge                         category\n",
      " 14  price_range_loc                object  \n",
      " 15  busiest_day                    object  \n",
      " 16  busiest_days                   object  \n",
      " 17  busiest_period_of_day          object  \n",
      " 18  max_order                      uint8   \n",
      " 19  loyalty_flag                   object  \n",
      " 20  mean_prices                    float64 \n",
      " 21  spending_flag                  object  \n",
      " 22  median_days_since_prior_order  float16 \n",
      " 23  frequency_flag                 object  \n",
      "dtypes: category(1), float16(2), float64(2), int8(1), object(8), uint16(1), uint32(2), uint8(7)\n",
      "memory usage: 3.1+ GB\n"
     ]
    }
   ],
   "source": [
    "# Check data\n",
    "prepped_IC_df.info()"
   ]
  },
  {
   "cell_type": "code",
   "execution_count": 18,
   "id": "459e240e-0755-4cff-810e-edee62e2c9f9",
   "metadata": {},
   "outputs": [],
   "source": [
    "# Drop _merge column\n",
    "prepped_IC_df = prepped_IC_df.drop(columns = ['_merge'])"
   ]
  },
  {
   "cell_type": "code",
   "execution_count": 19,
   "id": "b0a6af30-1421-4db8-8a99-d8cc57bc96f5",
   "metadata": {},
   "outputs": [],
   "source": [
    "# Merge the dataframes 'prepped_IC_df' and 'df_customer'\n",
    "opc_IC_df = prepped_IC_df.merge(df_customer, on = 'user_id', indicator = True)"
   ]
  },
  {
   "cell_type": "code",
   "execution_count": 20,
   "id": "05faa91d-e3dd-4ce3-b092-b0a419520f42",
   "metadata": {},
   "outputs": [
    {
     "data": {
      "text/html": [
       "<div>\n",
       "<style scoped>\n",
       "    .dataframe tbody tr th:only-of-type {\n",
       "        vertical-align: middle;\n",
       "    }\n",
       "\n",
       "    .dataframe tbody tr th {\n",
       "        vertical-align: top;\n",
       "    }\n",
       "\n",
       "    .dataframe thead th {\n",
       "        text-align: right;\n",
       "    }\n",
       "</style>\n",
       "<table border=\"1\" class=\"dataframe\">\n",
       "  <thead>\n",
       "    <tr style=\"text-align: right;\">\n",
       "      <th></th>\n",
       "      <th>order_id</th>\n",
       "      <th>user_id</th>\n",
       "      <th>order_number</th>\n",
       "      <th>orders_day_of_week</th>\n",
       "      <th>hour_ordered</th>\n",
       "      <th>days_since_prior_order</th>\n",
       "      <th>product_id</th>\n",
       "      <th>add_to_cart_order</th>\n",
       "      <th>reordered</th>\n",
       "      <th>product_name</th>\n",
       "      <th>...</th>\n",
       "      <th>median_days_since_prior_order</th>\n",
       "      <th>frequency_flag</th>\n",
       "      <th>gender</th>\n",
       "      <th>state</th>\n",
       "      <th>age</th>\n",
       "      <th>date_joined</th>\n",
       "      <th>dependents</th>\n",
       "      <th>marital</th>\n",
       "      <th>income</th>\n",
       "      <th>_merge</th>\n",
       "    </tr>\n",
       "  </thead>\n",
       "  <tbody>\n",
       "    <tr>\n",
       "      <th>0</th>\n",
       "      <td>2539329</td>\n",
       "      <td>1</td>\n",
       "      <td>1</td>\n",
       "      <td>2</td>\n",
       "      <td>8</td>\n",
       "      <td>NaN</td>\n",
       "      <td>196</td>\n",
       "      <td>1</td>\n",
       "      <td>0</td>\n",
       "      <td>Soda</td>\n",
       "      <td>...</td>\n",
       "      <td>20.5</td>\n",
       "      <td>Non-frequent customer</td>\n",
       "      <td>Female</td>\n",
       "      <td>Alabama</td>\n",
       "      <td>31</td>\n",
       "      <td>2/17/2019</td>\n",
       "      <td>3</td>\n",
       "      <td>married</td>\n",
       "      <td>40423</td>\n",
       "      <td>both</td>\n",
       "    </tr>\n",
       "    <tr>\n",
       "      <th>1</th>\n",
       "      <td>2539329</td>\n",
       "      <td>1</td>\n",
       "      <td>1</td>\n",
       "      <td>2</td>\n",
       "      <td>8</td>\n",
       "      <td>NaN</td>\n",
       "      <td>14084</td>\n",
       "      <td>2</td>\n",
       "      <td>0</td>\n",
       "      <td>Organic Unsweetened Vanilla Almond Milk</td>\n",
       "      <td>...</td>\n",
       "      <td>20.5</td>\n",
       "      <td>Non-frequent customer</td>\n",
       "      <td>Female</td>\n",
       "      <td>Alabama</td>\n",
       "      <td>31</td>\n",
       "      <td>2/17/2019</td>\n",
       "      <td>3</td>\n",
       "      <td>married</td>\n",
       "      <td>40423</td>\n",
       "      <td>both</td>\n",
       "    </tr>\n",
       "    <tr>\n",
       "      <th>2</th>\n",
       "      <td>2539329</td>\n",
       "      <td>1</td>\n",
       "      <td>1</td>\n",
       "      <td>2</td>\n",
       "      <td>8</td>\n",
       "      <td>NaN</td>\n",
       "      <td>12427</td>\n",
       "      <td>3</td>\n",
       "      <td>0</td>\n",
       "      <td>Original Beef Jerky</td>\n",
       "      <td>...</td>\n",
       "      <td>20.5</td>\n",
       "      <td>Non-frequent customer</td>\n",
       "      <td>Female</td>\n",
       "      <td>Alabama</td>\n",
       "      <td>31</td>\n",
       "      <td>2/17/2019</td>\n",
       "      <td>3</td>\n",
       "      <td>married</td>\n",
       "      <td>40423</td>\n",
       "      <td>both</td>\n",
       "    </tr>\n",
       "    <tr>\n",
       "      <th>3</th>\n",
       "      <td>2539329</td>\n",
       "      <td>1</td>\n",
       "      <td>1</td>\n",
       "      <td>2</td>\n",
       "      <td>8</td>\n",
       "      <td>NaN</td>\n",
       "      <td>26088</td>\n",
       "      <td>4</td>\n",
       "      <td>0</td>\n",
       "      <td>Aged White Cheddar Popcorn</td>\n",
       "      <td>...</td>\n",
       "      <td>20.5</td>\n",
       "      <td>Non-frequent customer</td>\n",
       "      <td>Female</td>\n",
       "      <td>Alabama</td>\n",
       "      <td>31</td>\n",
       "      <td>2/17/2019</td>\n",
       "      <td>3</td>\n",
       "      <td>married</td>\n",
       "      <td>40423</td>\n",
       "      <td>both</td>\n",
       "    </tr>\n",
       "    <tr>\n",
       "      <th>4</th>\n",
       "      <td>2539329</td>\n",
       "      <td>1</td>\n",
       "      <td>1</td>\n",
       "      <td>2</td>\n",
       "      <td>8</td>\n",
       "      <td>NaN</td>\n",
       "      <td>26405</td>\n",
       "      <td>5</td>\n",
       "      <td>0</td>\n",
       "      <td>XL Pick-A-Size Paper Towel Rolls</td>\n",
       "      <td>...</td>\n",
       "      <td>20.5</td>\n",
       "      <td>Non-frequent customer</td>\n",
       "      <td>Female</td>\n",
       "      <td>Alabama</td>\n",
       "      <td>31</td>\n",
       "      <td>2/17/2019</td>\n",
       "      <td>3</td>\n",
       "      <td>married</td>\n",
       "      <td>40423</td>\n",
       "      <td>both</td>\n",
       "    </tr>\n",
       "  </tbody>\n",
       "</table>\n",
       "<p>5 rows × 31 columns</p>\n",
       "</div>"
      ],
      "text/plain": [
       "   order_id  user_id  order_number  orders_day_of_week  hour_ordered  \\\n",
       "0   2539329        1             1                   2             8   \n",
       "1   2539329        1             1                   2             8   \n",
       "2   2539329        1             1                   2             8   \n",
       "3   2539329        1             1                   2             8   \n",
       "4   2539329        1             1                   2             8   \n",
       "\n",
       "   days_since_prior_order  product_id  add_to_cart_order  reordered  \\\n",
       "0                     NaN         196                  1          0   \n",
       "1                     NaN       14084                  2          0   \n",
       "2                     NaN       12427                  3          0   \n",
       "3                     NaN       26088                  4          0   \n",
       "4                     NaN       26405                  5          0   \n",
       "\n",
       "                              product_name  ...  \\\n",
       "0                                     Soda  ...   \n",
       "1  Organic Unsweetened Vanilla Almond Milk  ...   \n",
       "2                      Original Beef Jerky  ...   \n",
       "3               Aged White Cheddar Popcorn  ...   \n",
       "4         XL Pick-A-Size Paper Towel Rolls  ...   \n",
       "\n",
       "   median_days_since_prior_order         frequency_flag  gender    state age  \\\n",
       "0                           20.5  Non-frequent customer  Female  Alabama  31   \n",
       "1                           20.5  Non-frequent customer  Female  Alabama  31   \n",
       "2                           20.5  Non-frequent customer  Female  Alabama  31   \n",
       "3                           20.5  Non-frequent customer  Female  Alabama  31   \n",
       "4                           20.5  Non-frequent customer  Female  Alabama  31   \n",
       "\n",
       "  date_joined dependents  marital income  _merge  \n",
       "0   2/17/2019          3  married  40423    both  \n",
       "1   2/17/2019          3  married  40423    both  \n",
       "2   2/17/2019          3  married  40423    both  \n",
       "3   2/17/2019          3  married  40423    both  \n",
       "4   2/17/2019          3  married  40423    both  \n",
       "\n",
       "[5 rows x 31 columns]"
      ]
     },
     "execution_count": 20,
     "metadata": {},
     "output_type": "execute_result"
    }
   ],
   "source": [
    "opc_IC_df.head()"
   ]
  },
  {
   "cell_type": "code",
   "execution_count": 21,
   "id": "9b566fc6-0532-4ae1-9975-75eaf4129a0b",
   "metadata": {},
   "outputs": [
    {
     "data": {
      "text/plain": [
       "_merge\n",
       "both          32404859\n",
       "left_only            0\n",
       "right_only           0\n",
       "Name: count, dtype: int64"
      ]
     },
     "execution_count": 21,
     "metadata": {},
     "output_type": "execute_result"
    }
   ],
   "source": [
    "# Confirm results with merge flag\n",
    "opc_IC_df['_merge'].value_counts()"
   ]
  },
  {
   "cell_type": "markdown",
   "id": "26df03f3-6ed4-4734-8e0a-d1f4d1a3d1f9",
   "metadata": {},
   "source": [
    "### 8. Export data frame as pickle file"
   ]
  },
  {
   "cell_type": "code",
   "execution_count": 22,
   "id": "7930ff71-6676-4d74-8132-5bc002eb737c",
   "metadata": {},
   "outputs": [],
   "source": [
    "# Export as .pkl\n",
    "opc_IC_df.to_pickle(os.path.join(path, '02 Data', 'Prepared Data', 'IC_data.pkl'))"
   ]
  }
 ],
 "metadata": {
  "kernelspec": {
   "display_name": "Python 3 (ipykernel)",
   "language": "python",
   "name": "python3"
  },
  "language_info": {
   "codemirror_mode": {
    "name": "ipython",
    "version": 3
   },
   "file_extension": ".py",
   "mimetype": "text/x-python",
   "name": "python",
   "nbconvert_exporter": "python",
   "pygments_lexer": "ipython3",
   "version": "3.11.7"
  }
 },
 "nbformat": 4,
 "nbformat_minor": 5
}
